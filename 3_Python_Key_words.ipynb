{
 "cells": [
  {
   "cell_type": "code",
   "execution_count": 1,
   "id": "fa2cc5f0-bd12-4148-82aa-49efbfb0d7f5",
   "metadata": {},
   "outputs": [],
   "source": [
    "#1. Explain the significance of Python keywords and provide examples of five keywords"
   ]
  },
  {
   "cell_type": "code",
   "execution_count": null,
   "id": "40732312-795c-4014-8ada-96038b8c390c",
   "metadata": {},
   "outputs": [],
   "source": [
    "'''Python keywords are reserved words that have special meanings. \n",
    "They cannot be used as identifiers. '''"
   ]
  },
  {
   "cell_type": "code",
   "execution_count": 7,
   "id": "e737d848-2a37-4c87-871d-7ad1621e7aef",
   "metadata": {},
   "outputs": [
    {
     "name": "stdout",
     "output_type": "stream",
     "text": [
      "if is a keyword\n",
      "while is a keyword\n",
      "for is a keyword\n",
      "return is a keyword\n",
      "def is a keyword\n"
     ]
    }
   ],
   "source": [
    "if True:\n",
    "    print(\"if is a keyword\")\n",
    "\n",
    "while True:\n",
    "    print(\"while is a keyword\")\n",
    "    break\n",
    "\n",
    "for i in range(3):\n",
    "    print(\"for is a keyword\")\n",
    "    break\n",
    "\n",
    "def my_function():\n",
    "    print(\"def is a keyword\")\n",
    "\n",
    "return_value = None\n",
    "print(\"return is a keyword\")\n",
    "\n",
    "my_function()\n"
   ]
  },
  {
   "cell_type": "code",
   "execution_count": null,
   "id": "3c0d9de0-c3ee-4e70-8e2c-a27e81234481",
   "metadata": {},
   "outputs": [],
   "source": [
    "#2. Descri0e the rules for defining identifiers in Python and provide an example"
   ]
  },
  {
   "cell_type": "code",
   "execution_count": 9,
   "id": "8cfa9529-b67a-4535-9ed3-56241766ebca",
   "metadata": {},
   "outputs": [],
   "source": [
    "'''\n",
    "Can contain letters (both uppercase and lowercase), digits, and underscore (_).\n",
    "Must begin with a letter (a-z, A-Z) or an underscore (_).\n",
    "they are case-sensitive.\n",
    "'''\n",
    "my_variable = 10\n"
   ]
  },
  {
   "cell_type": "code",
   "execution_count": 10,
   "id": "bfca7001-f04a-4d37-92e8-5de5187d6df6",
   "metadata": {},
   "outputs": [],
   "source": [
    "# 3. What are comments in Python, and why are they useful6 Provide an example"
   ]
  },
  {
   "cell_type": "code",
   "execution_count": 11,
   "id": "b0090585-5e0a-4381-8e21-9816964e7360",
   "metadata": {},
   "outputs": [
    {
     "data": {
      "text/plain": [
       "'\\nThis is a multi-line comment.\\n...\\n'"
      ]
     },
     "execution_count": 11,
     "metadata": {},
     "output_type": "execute_result"
    }
   ],
   "source": [
    "# This is a single-line comment\n",
    "# It provides information about the code\n",
    "\n",
    "\"\"\"\n",
    "This is a multi-line comment.\n",
    "...\n",
    "\"\"\""
   ]
  },
  {
   "cell_type": "code",
   "execution_count": 12,
   "id": "b92b1b93-0c0e-41ce-9d99-46adf9e7ce40",
   "metadata": {},
   "outputs": [],
   "source": [
    "#4. Why is proper indentation important in Python ?"
   ]
  },
  {
   "cell_type": "code",
   "execution_count": 13,
   "id": "1fbf1c46-4859-4bb4-b156-3a8829bfcd08",
   "metadata": {},
   "outputs": [
    {
     "data": {
      "text/plain": [
       "'\\nIndentations are very important in Python. It is for python to understand which block needs\\nto be executed on which flow/ loops/ etc.\\n'"
      ]
     },
     "execution_count": 13,
     "metadata": {},
     "output_type": "execute_result"
    }
   ],
   "source": [
    "'''\n",
    "Indentations are very important in Python. It is for python to understand which block needs\n",
    "to be executed on which flow/ loops/ etc.\n",
    "'''"
   ]
  },
  {
   "cell_type": "code",
   "execution_count": 14,
   "id": "0c02ddbf-ad8c-46a4-a464-d0f773ae70cb",
   "metadata": {},
   "outputs": [],
   "source": [
    "#5.  What happens if indentation is incorrect in Python ?"
   ]
  },
  {
   "cell_type": "code",
   "execution_count": 15,
   "id": "6249e408-b9fa-4532-9ea8-dc8ec2846488",
   "metadata": {},
   "outputs": [
    {
     "data": {
      "text/plain": [
       "'It will throw exception/ error stating syntax error.\\nPython whill not understand which functions/ methods/ variable belongs to which functions if \\nindentations are not correct.'"
      ]
     },
     "execution_count": 15,
     "metadata": {},
     "output_type": "execute_result"
    }
   ],
   "source": [
    "'''It will throw exception/ error stating syntax error.\n",
    "Python whill not understand which functions/ methods/ variable belongs to which functions if \n",
    "indentations are not correct.'''"
   ]
  },
  {
   "cell_type": "code",
   "execution_count": 16,
   "id": "34ebd409-7d72-4e10-a165-762c45b35176",
   "metadata": {},
   "outputs": [],
   "source": [
    "#6. Differentiate 0etween expression and statement in Python with examples"
   ]
  },
  {
   "cell_type": "code",
   "execution_count": null,
   "id": "84870d94-a63e-4aa5-b70f-d60d0a8ea2ff",
   "metadata": {},
   "outputs": [],
   "source": []
  }
 ],
 "metadata": {
  "kernelspec": {
   "display_name": "Python 3 (ipykernel)",
   "language": "python",
   "name": "python3"
  },
  "language_info": {
   "codemirror_mode": {
    "name": "ipython",
    "version": 3
   },
   "file_extension": ".py",
   "mimetype": "text/x-python",
   "name": "python",
   "nbconvert_exporter": "python",
   "pygments_lexer": "ipython3",
   "version": "3.10.8"
  }
 },
 "nbformat": 4,
 "nbformat_minor": 5
}
