{
 "cells": [
  {
   "cell_type": "code",
   "execution_count": 2,
   "id": "d1ae3cc2-365c-41b0-86cb-c102e77bc3dc",
   "metadata": {},
   "outputs": [],
   "source": [
    "#1. Calculate the sum, difference, prodct, and quotient of two numbers."
   ]
  },
  {
   "cell_type": "code",
   "execution_count": 3,
   "id": "81f70963-89eb-404e-880c-bf0f06d7c1fc",
   "metadata": {},
   "outputs": [
    {
     "name": "stdout",
     "output_type": "stream",
     "text": [
      "Sum : 188\n",
      "Difference : 58\n",
      "Product : 7995\n",
      "Quotient : 1\n"
     ]
    }
   ],
   "source": [
    "a = 123\n",
    "b = 65\n",
    "\n",
    "addition = a + b\n",
    "diff = a - b\n",
    "mul = a * b\n",
    "quotient = a // b\n",
    "\n",
    "print(f'Sum : {addition}\\nDifference : {diff}\\nProduct : {mul}\\nQuotient : {quotient}')"
   ]
  },
  {
   "cell_type": "code",
   "execution_count": null,
   "id": "c197f37b-36fc-4c0a-83eb-3143e4c05178",
   "metadata": {},
   "outputs": [],
   "source": [
    "#2. Perform various assignment operations on a variable."
   ]
  },
  {
   "cell_type": "code",
   "execution_count": 8,
   "id": "a3580939-5b51-4e87-b982-7d2430a0e09f",
   "metadata": {},
   "outputs": [
    {
     "name": "stdout",
     "output_type": "stream",
     "text": [
      "239\n",
      "236\n",
      "472\n",
      "118.0\n",
      "3.0\n",
      "27.0\n",
      "13.0\n",
      "10\n",
      "2\n",
      "10\n",
      "12\n",
      "3\n",
      "6\n"
     ]
    }
   ],
   "source": [
    "# Initialize a variable\n",
    "x = 234\n",
    "\n",
    "x += 5\n",
    "print(x)\n",
    "x -= 3 \n",
    "print(x)\n",
    "x *= 2\n",
    "print(x)\n",
    "x /= 4  \n",
    "print(x)\n",
    "x %= 5\n",
    "print(x)\n",
    "x **= 3 \n",
    "print(x)\n",
    "x //= 2\n",
    "print(x)\n",
    "x = 10\n",
    "print(x)\n",
    "x &= 3\n",
    "print(x)\n",
    "x |= 8\n",
    "print(x)\n",
    "x ^= 6 \n",
    "print(x)\n",
    "x >>= 2\n",
    "print(x)\n",
    "x <<= 1\n",
    "print(x)\n",
    "\n",
    "\n",
    "\n"
   ]
  },
  {
   "cell_type": "code",
   "execution_count": null,
   "id": "86797fb7-32e2-4e64-a1f1-a4306dbd10e2",
   "metadata": {},
   "outputs": [],
   "source": [
    "#3.Compare two numbers and print the results."
   ]
  },
  {
   "cell_type": "code",
   "execution_count": 10,
   "id": "e94f1452-899a-499d-84d6-291f8cab921f",
   "metadata": {},
   "outputs": [
    {
     "name": "stdin",
     "output_type": "stream",
     "text": [
      "Enter the first number:  35\n",
      "Enter the second number:  57\n"
     ]
    },
    {
     "name": "stdout",
     "output_type": "stream",
     "text": [
      "The second number is greater than the first number.\n"
     ]
    }
   ],
   "source": [
    "num1 = int(input(\"Enter the first number: \"))\n",
    "num2 = int(input(\"Enter the second number: \"))\n",
    "\n",
    "if num1 == num2:\n",
    "    print(\"Both numbers are equal.\")\n",
    "elif num1 > num2:\n",
    "    print(\"The first number is greater than the second number.\")\n",
    "else:\n",
    "    print(\"The second number is greater than the first number.\")\n"
   ]
  },
  {
   "cell_type": "code",
   "execution_count": 11,
   "id": "8202ae5c-ff5d-4b9f-9cfa-89e619cd04c0",
   "metadata": {},
   "outputs": [],
   "source": [
    "#4. Check conditions using logical operators."
   ]
  },
  {
   "cell_type": "code",
   "execution_count": 16,
   "id": "40259eb3-3197-474f-a09d-a5465a6851cd",
   "metadata": {},
   "outputs": [
    {
     "name": "stdout",
     "output_type": "stream",
     "text": [
      "Both conditions are true: 23 is less than 54 and 54 is less than 63.\n",
      "At least one condition is true: 23 is less than 54 or 23 is greater than 63.\n",
      "The condition is false: 23 is not greater than 54.\n"
     ]
    }
   ],
   "source": [
    "x, y, z = 23, 54, 63\n",
    "\n",
    "\n",
    "if x < y and y < z:\n",
    "    print(f\"Both conditions are true: {x} is less than {y} and {y} is less than {z}.\")\n",
    "\n",
    "if x < y or x > z:\n",
    "    print(f\"At least one condition is true: {x} is less than {y} or {x} is greater than {z}.\")\n",
    "\n",
    "if not(x > y):\n",
    "    print(f\"The condition is false: {x} is not greater than {y}.\")\n"
   ]
  },
  {
   "cell_type": "code",
   "execution_count": 19,
   "id": "d4867b0e-eb57-42a1-a7e4-5d211e0e05ae",
   "metadata": {},
   "outputs": [],
   "source": [
    "#5. Check the identity of variables."
   ]
  },
  {
   "cell_type": "code",
   "execution_count": 20,
   "id": "4c6f3310-9852-4eaa-a697-f3d22fd52943",
   "metadata": {},
   "outputs": [
    {
     "name": "stdout",
     "output_type": "stream",
     "text": [
      "a is b: True\n",
      "a is c: False\n"
     ]
    }
   ],
   "source": [
    "a = [1, 2, 3]\n",
    "b = a\n",
    "c = [1, 2, 3]\n",
    "\n",
    "print(\"a is b:\", a is b)\n",
    "print(\"a is c:\", a is c) \n"
   ]
  },
  {
   "cell_type": "code",
   "execution_count": 21,
   "id": "70cf19be-5a91-4193-8000-60f015c6ef48",
   "metadata": {},
   "outputs": [],
   "source": [
    "#6. Perform bitwise operations on any two integers."
   ]
  },
  {
   "cell_type": "code",
   "execution_count": 22,
   "id": "2739c919-6d7e-4ddc-b554-29b29e13e2d5",
   "metadata": {},
   "outputs": [
    {
     "name": "stdout",
     "output_type": "stream",
     "text": [
      "Bitwise AND: 1\n",
      "Bitwise OR: 7\n",
      "Bitwise XOR: 6\n",
      "Bitwise left shift: 10\n",
      "Bitwise right shift: 2\n"
     ]
    }
   ],
   "source": [
    "x = 5\n",
    "y = 3\n",
    "\n",
    "result_and = x & y\n",
    "print(\"Bitwise AND:\", result_and)\n",
    "\n",
    "result_or = x | y  \n",
    "print(\"Bitwise OR:\", result_or)\n",
    "\n",
    "result_xor = x ^ y\n",
    "print(\"Bitwise XOR:\", result_xor)\n",
    "\n",
    "result_left_shift = x << 1 \n",
    "print(\"Bitwise left shift:\", result_left_shift)\n",
    "\n",
    "result_right_shift = x >> 1\n",
    "print(\"Bitwise right shift:\", result_right_shift)\n"
   ]
  },
  {
   "cell_type": "code",
   "execution_count": 23,
   "id": "df4a723c-de5f-484f-807c-98377cd74a9e",
   "metadata": {},
   "outputs": [],
   "source": [
    "#7. Use unary operators to change the sign of a number."
   ]
  },
  {
   "cell_type": "code",
   "execution_count": 26,
   "id": "b84fb7b9-b2d6-4db0-a3c5-427df15b3ea8",
   "metadata": {},
   "outputs": [
    {
     "name": "stdout",
     "output_type": "stream",
     "text": [
      "Changed sign of x: -67\n"
     ]
    }
   ],
   "source": [
    "x = 67\n",
    "x = -x\n",
    "print(\"Changed sign of x:\", x)\n"
   ]
  },
  {
   "cell_type": "code",
   "execution_count": 27,
   "id": "3d852a47-1d4c-4e80-bafd-a59af752e1ef",
   "metadata": {},
   "outputs": [],
   "source": [
    "#8. Use the ternary operator to assign @al$es based on conditions."
   ]
  },
  {
   "cell_type": "code",
   "execution_count": null,
   "id": "9cfe6dc2-c3ff-4b61-a5f1-58f734b5fea8",
   "metadata": {},
   "outputs": [],
   "source": []
  }
 ],
 "metadata": {
  "kernelspec": {
   "display_name": "Python 3 (ipykernel)",
   "language": "python",
   "name": "python3"
  },
  "language_info": {
   "codemirror_mode": {
    "name": "ipython",
    "version": 3
   },
   "file_extension": ".py",
   "mimetype": "text/x-python",
   "name": "python",
   "nbconvert_exporter": "python",
   "pygments_lexer": "ipython3",
   "version": "3.10.8"
  }
 },
 "nbformat": 4,
 "nbformat_minor": 5
}
