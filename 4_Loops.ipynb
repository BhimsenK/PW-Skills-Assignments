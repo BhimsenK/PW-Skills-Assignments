{
 "cells": [
  {
   "cell_type": "code",
   "execution_count": 1,
   "id": "57000668-8e1d-41f3-882c-2a2e5b7a4636",
   "metadata": {},
   "outputs": [],
   "source": [
    "#1. Print nmber from 1 to 5 ing a while loop."
   ]
  },
  {
   "cell_type": "code",
   "execution_count": 2,
   "id": "6457d2c2-d1d8-4396-8a59-ddba4289364a",
   "metadata": {},
   "outputs": [
    {
     "name": "stdout",
     "output_type": "stream",
     "text": [
      "1\n",
      "2\n",
      "3\n",
      "4\n",
      "5\n"
     ]
    }
   ],
   "source": [
    "num = 1\n",
    "while num <= 5:\n",
    "    print(num)\n",
    "    num += 1\n"
   ]
  },
  {
   "cell_type": "code",
   "execution_count": 3,
   "id": "1622b5df-b3f9-4ed3-bd7f-9638aa3a7093",
   "metadata": {},
   "outputs": [],
   "source": [
    "#2. Calculate the sum of numbers from 1 to 10 using a while loop:"
   ]
  },
  {
   "cell_type": "code",
   "execution_count": 4,
   "id": "399b5b01-fc41-404f-9c8d-09fda8c82618",
   "metadata": {},
   "outputs": [
    {
     "name": "stdout",
     "output_type": "stream",
     "text": [
      "Sum of numbers from 1 to 10: 55\n"
     ]
    }
   ],
   "source": [
    "num = 1\n",
    "sum = 0\n",
    "while num <= 10:\n",
    "    sum += num\n",
    "    num += 1\n",
    "print(\"Sum of numbers from 1 to 10:\", sum)\n"
   ]
  },
  {
   "cell_type": "code",
   "execution_count": 5,
   "id": "9626e884-a4d2-4fae-8085-c483ea23bbce",
   "metadata": {},
   "outputs": [],
   "source": [
    "#3. Calculate the factorial of a number using a for loop:"
   ]
  },
  {
   "cell_type": "code",
   "execution_count": 6,
   "id": "c2dc0772-00e7-4416-8c1a-53b9b0702597",
   "metadata": {},
   "outputs": [
    {
     "name": "stdout",
     "output_type": "stream",
     "text": [
      "Factorial of 5 : 120\n"
     ]
    }
   ],
   "source": [
    "num = 5\n",
    "factorial = 1\n",
    "for i in range(1, num + 1):\n",
    "    factorial *= i\n",
    "print(\"Factorial of\", num, \":\", factorial)\n"
   ]
  },
  {
   "cell_type": "code",
   "execution_count": 7,
   "id": "d46d951c-45a3-4543-bf94-9b2a5bf1ab7c",
   "metadata": {},
   "outputs": [],
   "source": [
    "#4. Count the number of vowels in a string using a for loop:"
   ]
  },
  {
   "cell_type": "code",
   "execution_count": 8,
   "id": "e0a4b788-66a7-459a-8ad9-3fdd1c66a2b7",
   "metadata": {},
   "outputs": [
    {
     "name": "stdout",
     "output_type": "stream",
     "text": [
      "Number of vowels in the string: 3\n"
     ]
    }
   ],
   "source": [
    "string = \"Hello World\"\n",
    "vowels = \"aeiouAEIOU\"\n",
    "count = 0\n",
    "for char in string:\n",
    "    if char in vowels:\n",
    "        count += 1\n",
    "print(\"Number of vowels in the string:\", count)\n"
   ]
  },
  {
   "cell_type": "code",
   "execution_count": null,
   "id": "e6f7a9de-3b81-4a14-b58f-5c4c174b44b0",
   "metadata": {},
   "outputs": [],
   "source": [
    "#5. Print a pattern using nested loops:"
   ]
  }
 ],
 "metadata": {
  "kernelspec": {
   "display_name": "Python 3 (ipykernel)",
   "language": "python",
   "name": "python3"
  },
  "language_info": {
   "codemirror_mode": {
    "name": "ipython",
    "version": 3
   },
   "file_extension": ".py",
   "mimetype": "text/x-python",
   "name": "python",
   "nbconvert_exporter": "python",
   "pygments_lexer": "ipython3",
   "version": "3.10.8"
  }
 },
 "nbformat": 4,
 "nbformat_minor": 5
}
