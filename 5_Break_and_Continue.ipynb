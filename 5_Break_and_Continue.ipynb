{
 "cells": [
  {
   "cell_type": "code",
   "execution_count": 1,
   "id": "2c25f7d3-8a16-49e7-979b-e966858602e2",
   "metadata": {},
   "outputs": [],
   "source": [
    "#1. Program to print numbers from 1 to 10, but stop if the number is 5:"
   ]
  },
  {
   "cell_type": "code",
   "execution_count": 2,
   "id": "a163ce7b-3b0d-4010-b91a-cbf3267cd75c",
   "metadata": {},
   "outputs": [
    {
     "name": "stdout",
     "output_type": "stream",
     "text": [
      "1\n",
      "2\n",
      "3\n",
      "4\n"
     ]
    }
   ],
   "source": [
    "num = 1\n",
    "while num <= 10:\n",
    "    if num == 5:\n",
    "        break\n",
    "    print(num)\n",
    "    num += 1\n"
   ]
  },
  {
   "cell_type": "code",
   "execution_count": 3,
   "id": "77548af3-9b91-45b8-9067-e5398cd6720c",
   "metadata": {},
   "outputs": [],
   "source": [
    "#2. Program to iterate through a list and stop when encountering a specific element:"
   ]
  },
  {
   "cell_type": "code",
   "execution_count": 4,
   "id": "24575863-1165-4ec2-be92-7d0d8307ddcd",
   "metadata": {},
   "outputs": [
    {
     "name": "stdout",
     "output_type": "stream",
     "text": [
      "1\n",
      "2\n",
      "3\n",
      "4\n",
      "5\n"
     ]
    }
   ],
   "source": [
    "my_list = [1, 2, 3, 4, 5, 6, 7]\n",
    "element_to_stop = 5\n",
    "\n",
    "for item in my_list:\n",
    "    print(item)\n",
    "    if item == element_to_stop:\n",
    "        break\n"
   ]
  },
  {
   "cell_type": "code",
   "execution_count": 5,
   "id": "5adda691-9607-4c1c-8afb-ec02562d5fbb",
   "metadata": {},
   "outputs": [],
   "source": [
    "#3. Program to skip printing even numbers from 1 to 10:"
   ]
  },
  {
   "cell_type": "code",
   "execution_count": 6,
   "id": "1ee7edce-eabc-4307-a70c-d496c71d2729",
   "metadata": {},
   "outputs": [
    {
     "name": "stdout",
     "output_type": "stream",
     "text": [
      "1\n",
      "3\n",
      "5\n",
      "7\n",
      "9\n"
     ]
    }
   ],
   "source": [
    "for num in range(1, 11):\n",
    "    if num % 2 == 0:\n",
    "        continue\n",
    "    print(num)\n"
   ]
  },
  {
   "cell_type": "code",
   "execution_count": 7,
   "id": "558837b5-9e47-4560-be91-fdacb2602f47",
   "metadata": {},
   "outputs": [],
   "source": [
    "#4. Program to print numbers from 0 to 9 using range():"
   ]
  },
  {
   "cell_type": "code",
   "execution_count": 8,
   "id": "17796fdb-b55e-48f1-b3eb-e44a9909a83d",
   "metadata": {},
   "outputs": [
    {
     "name": "stdout",
     "output_type": "stream",
     "text": [
      "0\n",
      "1\n",
      "2\n",
      "3\n",
      "4\n",
      "5\n",
      "6\n",
      "7\n",
      "8\n",
      "9\n"
     ]
    }
   ],
   "source": [
    "for num in range(10):\n",
    "    print(num)\n"
   ]
  },
  {
   "cell_type": "code",
   "execution_count": 9,
   "id": "2292a5a9-2a15-4891-b3b4-bef9d1e5c8a2",
   "metadata": {},
   "outputs": [],
   "source": [
    "#5. Program to print multiplication tables from 1 to 5, but stop after the first table is printed for each number:"
   ]
  },
  {
   "cell_type": "code",
   "execution_count": 12,
   "id": "1142a045-a00e-4d70-ab7d-da1c7eedbadb",
   "metadata": {},
   "outputs": [
    {
     "name": "stdout",
     "output_type": "stream",
     "text": [
      "1 x 1 = 1\n",
      "1 x 2 = 2\n",
      "1 x 3 = 3\n",
      "1 x 4 = 4\n",
      "1 x 5 = 5\n",
      "1 x 6 = 6\n",
      "1 x 7 = 7\n",
      "1 x 8 = 8\n",
      "1 x 9 = 9\n",
      "1 x 10 = 10\n",
      "\n",
      "2 x 1 = 2\n",
      "2 x 2 = 4\n",
      "2 x 3 = 6\n",
      "2 x 4 = 8\n",
      "2 x 5 = 10\n",
      "2 x 6 = 12\n",
      "2 x 7 = 14\n",
      "2 x 8 = 16\n",
      "2 x 9 = 18\n",
      "2 x 10 = 20\n",
      "\n",
      "3 x 1 = 3\n",
      "3 x 2 = 6\n",
      "3 x 3 = 9\n",
      "3 x 4 = 12\n",
      "3 x 5 = 15\n",
      "3 x 6 = 18\n",
      "3 x 7 = 21\n",
      "3 x 8 = 24\n",
      "3 x 9 = 27\n",
      "3 x 10 = 30\n",
      "\n",
      "4 x 1 = 4\n",
      "4 x 2 = 8\n",
      "4 x 3 = 12\n",
      "4 x 4 = 16\n",
      "4 x 5 = 20\n",
      "4 x 6 = 24\n",
      "4 x 7 = 28\n",
      "4 x 8 = 32\n",
      "4 x 9 = 36\n",
      "4 x 10 = 40\n",
      "\n",
      "5 x 1 = 5\n",
      "5 x 2 = 10\n",
      "5 x 3 = 15\n",
      "5 x 4 = 20\n",
      "5 x 5 = 25\n",
      "5 x 6 = 30\n",
      "5 x 7 = 35\n",
      "5 x 8 = 40\n",
      "5 x 9 = 45\n",
      "5 x 10 = 50\n",
      "\n"
     ]
    }
   ],
   "source": [
    "for i in range(1, 6):\n",
    "    for j in range(1, 11):\n",
    "        print(i, \"x\", j, \"=\", i * j)\n",
    "    print()  # Add a newline after each table\n",
    "\n",
    "    "
   ]
  },
  {
   "cell_type": "code",
   "execution_count": null,
   "id": "4d0dd581-aac4-46fb-a7a9-4dbde349a2ee",
   "metadata": {},
   "outputs": [],
   "source": []
  }
 ],
 "metadata": {
  "kernelspec": {
   "display_name": "Python 3 (ipykernel)",
   "language": "python",
   "name": "python3"
  },
  "language_info": {
   "codemirror_mode": {
    "name": "ipython",
    "version": 3
   },
   "file_extension": ".py",
   "mimetype": "text/x-python",
   "name": "python",
   "nbconvert_exporter": "python",
   "pygments_lexer": "ipython3",
   "version": "3.10.8"
  }
 },
 "nbformat": 4,
 "nbformat_minor": 5
}
