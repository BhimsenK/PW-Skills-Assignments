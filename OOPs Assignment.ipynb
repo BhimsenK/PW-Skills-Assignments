{
 "cells": [
  {
   "cell_type": "code",
   "execution_count": 3,
   "id": "07e974ff-014b-4b5e-a715-c2e724cafe24",
   "metadata": {},
   "outputs": [],
   "source": [
    "#1) Explain importance of function."
   ]
  },
  {
   "cell_type": "code",
   "execution_count": 4,
   "id": "27c1d4a2-7404-4086-bbab-443ea23fdc63",
   "metadata": {},
   "outputs": [
    {
     "data": {
      "text/plain": [
       "\"\\nFunctions are like the building blocks of programming. \\nThey're like little packages of code that you can reuse whenever you need them. \\nThey help keep your code organized, make it easier to understand, and save you time \\nbecause you don't have to rewrite the same code over and over again. Plus, they allow you \\nto break down complex tasks into smaller, more manageable chunks, which makes your code \\nmore modular and flexible\\n\""
      ]
     },
     "execution_count": 4,
     "metadata": {},
     "output_type": "execute_result"
    }
   ],
   "source": [
    "\"\"\"\n",
    "Functions are like the building blocks of programming. \n",
    "They're like little packages of code that we can reuse whenever we need them. \n",
    "They help keep our code organized, make it easier to understand, and save our time \n",
    "because we don't have to rewrite the same code over and over again. Plus, they allow us \n",
    "to break down complex tasks into smaller, more manageable chunks, which makes our code \n",
    "more modular and flexible\n",
    "\"\"\""
   ]
  },
  {
   "cell_type": "code",
   "execution_count": 5,
   "id": "411e7f90-f85c-43d0-9901-995f0be62e4a",
   "metadata": {},
   "outputs": [],
   "source": [
    "#2) Write a function to greet the students."
   ]
  },
  {
   "cell_type": "code",
   "execution_count": 6,
   "id": "4695a29a-d9f9-49a5-8621-a8e6199bf87f",
   "metadata": {},
   "outputs": [
    {
     "name": "stdout",
     "output_type": "stream",
     "text": [
      "Hello PW Army.........\n"
     ]
    }
   ],
   "source": [
    "def greetings_to_students():\n",
    "    print(f'Hello PW Army.........')\n",
    "    \n",
    "greetings_to_students()"
   ]
  },
  {
   "cell_type": "code",
   "execution_count": 7,
   "id": "8507167c-d950-4135-84cb-2ed4e4cb267a",
   "metadata": {},
   "outputs": [],
   "source": [
    "#3) What is the difference between print() and return() statements ?"
   ]
  },
  {
   "cell_type": "code",
   "execution_count": 1,
   "id": "e1f82acb-4953-4360-a5f4-55b4feb7d322",
   "metadata": {},
   "outputs": [
    {
     "name": "stdout",
     "output_type": "stream",
     "text": [
      "The sum is: 8\n",
      "Result: 8\n"
     ]
    }
   ],
   "source": [
    "\"\"\"\n",
    "print() statement is used to display information on the screen during the execution of a program. \n",
    "It's like showing something to the user or to ourselves as developers while the program is running.\n",
    "On the other hand, the return() statement is used to give a value back to the part of the program \n",
    "that called the function\n",
    "\"\"\"\n",
    "def add_numbers(a, b):\n",
    "    print(\"The sum is:\", a + b)  \n",
    "    return a + b                 \n",
    "\n",
    "result = add_numbers(3, 5)\n",
    "print(\"Result:\", result) \n"
   ]
  },
  {
   "cell_type": "code",
   "execution_count": 9,
   "id": "ecfdad37-7a93-4261-a70a-d0f1e1f23c0a",
   "metadata": {},
   "outputs": [],
   "source": [
    "#4)What are *args & **kwargs ?"
   ]
  },
  {
   "cell_type": "code",
   "execution_count": 16,
   "id": "49462f57-c005-48c5-82d9-2fb12b4bd5fb",
   "metadata": {},
   "outputs": [
    {
     "name": "stdout",
     "output_type": "stream",
     "text": [
      "20\n",
      "48\n"
     ]
    }
   ],
   "source": [
    "\"\"\"sometimes, we need to dynamically add the values into the function based on some reasons. \n",
    "so here with the help of **args, we can write the function and pass the values as many as required.\"\"\"\n",
    "\n",
    "def addition(*args):\n",
    "    result = 0\n",
    "    for i in args:\n",
    "        result += i\n",
    "        \n",
    "    print(result)\n",
    "    \n",
    "addition(11,2,3,4)\n",
    "addition(24,24)"
   ]
  },
  {
   "cell_type": "code",
   "execution_count": 24,
   "id": "fef64edf-800c-4d16-99b9-8465f92edc84",
   "metadata": {},
   "outputs": [
    {
     "name": "stdout",
     "output_type": "stream",
     "text": [
      "Hello, there!\n",
      "Hello, Alice!\n",
      "Hello, Bob!\n"
     ]
    }
   ],
   "source": [
    "\n",
    "# Example of **kwargs\n",
    "def greet(**kwargs):\n",
    "    if 'name' in kwargs:\n",
    "        print(f\"Hello, {kwargs['name']}!\")\n",
    "    else:\n",
    "        print(\"Hello, there!\")\n",
    "\n",
    "greet()                      # Output: Hello, there!\n",
    "greet(name=\"Alice\")          # Output: Hello, Alice!\n",
    "greet(name=\"Bob\", age=30)    # Output: Hello, Bob!\n"
   ]
  },
  {
   "cell_type": "code",
   "execution_count": 2,
   "id": "1f288ac8-f8e5-40c7-a9e7-d94dc4f4241a",
   "metadata": {},
   "outputs": [
    {
     "name": "stdout",
     "output_type": "stream",
     "text": [
      "1\n",
      "2\n"
     ]
    }
   ],
   "source": [
    "#5. Explain the iterator function.\n",
    "\n",
    "\"\"\"\n",
    "An iterator function is a function that returns an iterator object, \n",
    "which can be used to iterate over elements in a sequence, like a list or a string\n",
    "\"\"\"\n",
    "my_list = [1, 2, 3, 4, 5]\n",
    "my_iterator = iter(my_list)\n",
    "\n",
    "print(next(my_iterator))  \n",
    "print(next(my_iterator))  \n"
   ]
  },
  {
   "cell_type": "code",
   "execution_count": 3,
   "id": "80466720-3c00-4a73-8d8f-f4ec217cf0ab",
   "metadata": {},
   "outputs": [
    {
     "name": "stdout",
     "output_type": "stream",
     "text": [
      "1\n",
      "4\n",
      "9\n",
      "16\n",
      "25\n"
     ]
    }
   ],
   "source": [
    "#6. Write a code that generates the squares of numbers from 1 to n using a generator.\n",
    "\n",
    "def square_generator(n):\n",
    "    for i in range(1, n + 1):\n",
    "        yield i ** 2\n",
    "\n",
    "# Example usage:\n",
    "squares = square_generator(5)\n",
    "for square in squares:\n",
    "    print(square)\n"
   ]
  },
  {
   "cell_type": "code",
   "execution_count": 6,
   "id": "95e336ce-38c8-479f-a940-b045e6956afb",
   "metadata": {},
   "outputs": [
    {
     "name": "stdout",
     "output_type": "stream",
     "text": [
      "1\n",
      "2\n",
      "3\n",
      "4\n",
      "5\n",
      "6\n",
      "7\n",
      "8\n",
      "9\n",
      "11\n",
      "22\n",
      "33\n",
      "44\n",
      "55\n",
      "66\n",
      "77\n",
      "88\n",
      "99\n"
     ]
    }
   ],
   "source": [
    "#7. Write a code that generates palindromic numbers up to n using a generator.\n",
    "\n",
    "def palindrome_generator(n):\n",
    "    for num in range(1, n + 1):\n",
    "        if str(num) == str(num)[::-1]:\n",
    "            yield num\n",
    "\n",
    "# Example usage:\n",
    "palindromes = palindrome_generator(100)\n",
    "for palindrome in palindromes:\n",
    "    print(palindrome)\n"
   ]
  },
  {
   "cell_type": "code",
   "execution_count": 7,
   "id": "5825a58d-79b3-4111-8c41-33d4eeeadaf6",
   "metadata": {},
   "outputs": [
    {
     "name": "stdout",
     "output_type": "stream",
     "text": [
      "1\n",
      "2\n",
      "4\n",
      "8\n",
      "16\n"
     ]
    }
   ],
   "source": [
    "#9. Write a code that generates powers of two up to n using a generator.\n",
    "\n",
    "def power_of_two_generator(n):\n",
    "    power = 1\n",
    "    while power <= n:\n",
    "        yield power\n",
    "        power *= 2\n",
    "\n",
    "# Example usage:\n",
    "powers_of_two = power_of_two_generator(20)\n",
    "for power in powers_of_two:\n",
    "    print(power)\n"
   ]
  },
  {
   "cell_type": "code",
   "execution_count": 8,
   "id": "bb5e5894-ece8-471c-ae1e-e3d062546c10",
   "metadata": {},
   "outputs": [
    {
     "name": "stdout",
     "output_type": "stream",
     "text": [
      "2\n",
      "3\n",
      "5\n",
      "7\n",
      "11\n",
      "13\n",
      "17\n",
      "19\n"
     ]
    }
   ],
   "source": [
    "#10. Write a code that generates prime numbers up to n using a generator.\n",
    "\n",
    "def is_prime(num):\n",
    "    if num <= 1:\n",
    "        return False\n",
    "    for i in range(2, int(num ** 0.5) + 1):\n",
    "        if num % i == 0:\n",
    "            return False\n",
    "    return True\n",
    "\n",
    "def prime_generator(n):\n",
    "    for num in range(2, n + 1):\n",
    "        if is_prime(num):\n",
    "            yield num\n",
    "\n",
    "# Example usage:\n",
    "primes = prime_generator(20)\n",
    "for prime in primes:\n",
    "    print(prime)\n"
   ]
  },
  {
   "cell_type": "code",
   "execution_count": 9,
   "id": "b8c2d5d1-5e3f-4a78-b444-56902164a972",
   "metadata": {},
   "outputs": [
    {
     "name": "stdout",
     "output_type": "stream",
     "text": [
      "Sum: 8\n"
     ]
    }
   ],
   "source": [
    "#11. Write a code that uses a lambda function to calculate the sum of two numbers.\n",
    "\n",
    "sum_numbers = lambda x, y: x + y\n",
    "\n",
    "# Example usage:\n",
    "result = sum_numbers(5, 3)\n",
    "print(\"Sum:\", result)  # Output: 8\n"
   ]
  },
  {
   "cell_type": "code",
   "execution_count": 10,
   "id": "d5a532a6-a28f-4939-b267-264318f9513e",
   "metadata": {},
   "outputs": [
    {
     "name": "stdout",
     "output_type": "stream",
     "text": [
      "Square of 5 is: 25\n"
     ]
    }
   ],
   "source": [
    "#12. Write a code that uses a lambda function to calculate the square of a given number.\n",
    "\n",
    "calculate_square = lambda x: x ** 2\n",
    "\n",
    "# Example usage:\n",
    "number = 5\n",
    "square = calculate_square(number)\n",
    "print(\"Square of\", number, \"is:\", square)  # Output: Square of 5 is: 25\n"
   ]
  },
  {
   "cell_type": "code",
   "execution_count": 13,
   "id": "10c93f6b-7bec-4d35-bbd9-2af78746efce",
   "metadata": {},
   "outputs": [
    {
     "name": "stdout",
     "output_type": "stream",
     "text": [
      "7 is Odd\n"
     ]
    }
   ],
   "source": [
    "#13. Write a code that uses a lambda function to check whether a given number is even or odd.\n",
    "\n",
    "check_even_odd = lambda x: \"Even\" if x % 2 == 0 else \"Odd\"\n",
    "\n",
    "# Example usage:\n",
    "number = 7\n",
    "result = check_even_odd(number)\n",
    "print(number, \"is\", result)  # Output: 7 is Odd\n"
   ]
  },
  {
   "cell_type": "code",
   "execution_count": 14,
   "id": "9680d3ca-94ac-4774-8196-9b4bd0d81856",
   "metadata": {},
   "outputs": [
    {
     "name": "stdout",
     "output_type": "stream",
     "text": [
      "Concatenated string: Hello, world!\n"
     ]
    }
   ],
   "source": [
    "#15. Write a code that uses a lambda function to concatenate two strings.\n",
    "\n",
    "concatenate_strings = lambda s1, s2: s1 + s2\n",
    "\n",
    "# Example usage:\n",
    "string1 = \"Hello, \"\n",
    "string2 = \"world!\"\n",
    "result = concatenate_strings(string1, string2)\n",
    "print(\"Concatenated string:\", result)  # Output: Concatenated string: Hello, world!\n"
   ]
  },
  {
   "cell_type": "code",
   "execution_count": 15,
   "id": "25a2ec47-ec6a-4e2f-a8cd-8b593d6935ac",
   "metadata": {},
   "outputs": [
    {
     "name": "stdout",
     "output_type": "stream",
     "text": [
      "Maximum number: 10\n"
     ]
    }
   ],
   "source": [
    "#16. Write a code that uses a lambda function to find the maximum of three given numbers.\n",
    "\n",
    "find_max = lambda a, b, c: max(a, b, c)\n",
    "\n",
    "# Example usage:\n",
    "num1 = 10\n",
    "num2 = 5\n",
    "num3 = 8\n",
    "max_num = find_max(num1, num2, num3)\n",
    "print(\"Maximum number:\", max_num)  # Output: Maximum number: 10\n"
   ]
  },
  {
   "cell_type": "code",
   "execution_count": 16,
   "id": "a9431f73-c69e-4c2d-8dcc-5c43c4809da5",
   "metadata": {},
   "outputs": [
    {
     "name": "stdout",
     "output_type": "stream",
     "text": [
      "Squares of even numbers: [4, 16, 36, 64, 100]\n"
     ]
    }
   ],
   "source": [
    "#17. Write a code that generates the squares of even numbers from a given list.\n",
    "\n",
    "numbers = [1, 2, 3, 4, 5, 6, 7, 8, 9, 10]\n",
    "\n",
    "squares_of_evens = map(lambda x: x ** 2, filter(lambda x: x % 2 == 0, numbers))\n",
    "\n",
    "# Example usage:\n",
    "print(\"Squares of even numbers:\", list(squares_of_evens))\n"
   ]
  },
  {
   "cell_type": "code",
   "execution_count": 18,
   "id": "c4f0d4ee-7c3a-4abb-85bd-83ebe3b6a083",
   "metadata": {},
   "outputs": [
    {
     "ename": "NameError",
     "evalue": "name 'reduce' is not defined",
     "output_type": "error",
     "traceback": [
      "\u001b[0;31m---------------------------------------------------------------------------\u001b[0m",
      "\u001b[0;31mNameError\u001b[0m                                 Traceback (most recent call last)",
      "Cell \u001b[0;32mIn[18], line 5\u001b[0m\n\u001b[1;32m      1\u001b[0m \u001b[38;5;66;03m#18. Write a code that calculates the product of positive numbers from a given list.\u001b[39;00m\n\u001b[1;32m      3\u001b[0m numbers \u001b[38;5;241m=\u001b[39m [\u001b[38;5;241m1\u001b[39m, \u001b[38;5;241m-\u001b[39m\u001b[38;5;241m2\u001b[39m, \u001b[38;5;241m3\u001b[39m, \u001b[38;5;241m-\u001b[39m\u001b[38;5;241m4\u001b[39m, \u001b[38;5;241m5\u001b[39m, \u001b[38;5;241m-\u001b[39m\u001b[38;5;241m6\u001b[39m, \u001b[38;5;241m7\u001b[39m, \u001b[38;5;241m8\u001b[39m, \u001b[38;5;241m-\u001b[39m\u001b[38;5;241m9\u001b[39m, \u001b[38;5;241m10\u001b[39m]\n\u001b[0;32m----> 5\u001b[0m product_of_positives \u001b[38;5;241m=\u001b[39m \u001b[43mreduce\u001b[49m(\u001b[38;5;28;01mlambda\u001b[39;00m x, y: x \u001b[38;5;241m*\u001b[39m y, \u001b[38;5;28mfilter\u001b[39m(\u001b[38;5;28;01mlambda\u001b[39;00m x: x \u001b[38;5;241m>\u001b[39m \u001b[38;5;241m0\u001b[39m, numbers), \u001b[38;5;241m1\u001b[39m)\n\u001b[1;32m      7\u001b[0m \u001b[38;5;66;03m# Example usage:\u001b[39;00m\n\u001b[1;32m      8\u001b[0m \u001b[38;5;28mprint\u001b[39m(\u001b[38;5;124m\"\u001b[39m\u001b[38;5;124mProduct of positive numbers:\u001b[39m\u001b[38;5;124m\"\u001b[39m, product_of_positives)\n",
      "\u001b[0;31mNameError\u001b[0m: name 'reduce' is not defined"
     ]
    }
   ],
   "source": [
    "#18. Write a code that calculates the product of positive numbers from a given list.\n",
    "\n",
    "numbers = [1, -2, 3, -4, 5, -6, 7, 8, -9, 10]\n",
    "\n",
    "product_of_positives = reduce(lambda x, y: x * y, filter(lambda x: x > 0, numbers), 1)\n",
    "\n",
    "# Example usage:\n",
    "print(\"Product of positive numbers:\", product_of_positives)\n"
   ]
  },
  {
   "cell_type": "code",
   "execution_count": 19,
   "id": "ed59e188-5ad5-4f5d-90d7-c3b5e72bf0df",
   "metadata": {},
   "outputs": [
    {
     "name": "stdout",
     "output_type": "stream",
     "text": [
      "Product of positive numbers: 8400\n"
     ]
    }
   ],
   "source": [
    "from functools import reduce\n",
    "\n",
    "numbers = [1, -2, 3, -4, 5, -6, 7, 8, -9, 10]\n",
    "\n",
    "product_of_positives = reduce(lambda x, y: x * y, filter(lambda x: x > 0, numbers), 1)\n",
    "\n",
    "# Example usage:\n",
    "print(\"Product of positive numbers:\", product_of_positives)\n"
   ]
  },
  {
   "cell_type": "code",
   "execution_count": 20,
   "id": "0b3a233f-cb60-4e65-8966-a6ec8b7d4c7e",
   "metadata": {},
   "outputs": [
    {
     "name": "stdout",
     "output_type": "stream",
     "text": [
      "Doubled values of odd numbers: [2, 2, 6, 4, 10, 6, 14, 8, 18, 10]\n"
     ]
    }
   ],
   "source": [
    "#19. Write a code that doubles the values of odd numbers from a given list.\n",
    "\n",
    "numbers = [1, 2, 3, 4, 5, 6, 7, 8, 9, 10]\n",
    "\n",
    "doubled_odd_numbers = map(lambda x: x * 2 if x % 2 != 0 else x, numbers)\n",
    "\n",
    "# Example usage:\n",
    "print(\"Doubled values of odd numbers:\", list(doubled_odd_numbers))\n"
   ]
  },
  {
   "cell_type": "code",
   "execution_count": 21,
   "id": "12dd3d89-f83b-4420-b462-be01a174dd29",
   "metadata": {},
   "outputs": [
    {
     "name": "stdout",
     "output_type": "stream",
     "text": [
      "Sum of cubes of numbers: 225\n"
     ]
    }
   ],
   "source": [
    "#20. Write a code that calculates the sum of cubes of numbers from a given list.\n",
    "\n",
    "numbers = [1, 2, 3, 4, 5]\n",
    "\n",
    "sum_of_cubes = sum(map(lambda x: x ** 3, numbers))\n",
    "\n",
    "# Example usage:\n",
    "print(\"Sum of cubes of numbers:\", sum_of_cubes)\n"
   ]
  },
  {
   "cell_type": "code",
   "execution_count": 22,
   "id": "9166bf0e-d4b8-463d-b3d4-46e33ad4f090",
   "metadata": {},
   "outputs": [
    {
     "name": "stdout",
     "output_type": "stream",
     "text": [
      "Prime numbers: [2, 3, 5, 7]\n"
     ]
    }
   ],
   "source": [
    "#21. Write a code that filters out prime numbers from a given list.\n",
    "\n",
    "def is_prime(num):\n",
    "    if num <= 1:\n",
    "        return False\n",
    "    for i in range(2, int(num ** 0.5) + 1):\n",
    "        if num % i == 0:\n",
    "            return False\n",
    "    return True\n",
    "\n",
    "numbers = [1, 2, 3, 4, 5, 6, 7, 8, 9, 10]\n",
    "\n",
    "prime_numbers = filter(is_prime, numbers)\n",
    "\n",
    "# Example usage:\n",
    "print(\"Prime numbers:\", list(prime_numbers))\n"
   ]
  },
  {
   "cell_type": "code",
   "execution_count": 23,
   "id": "e59898b9-8f70-4416-a9b0-6dba1f419166",
   "metadata": {},
   "outputs": [
    {
     "name": "stdout",
     "output_type": "stream",
     "text": [
      "Sum: 8\n"
     ]
    }
   ],
   "source": [
    "#22. Write a code that uses a lambda function to calculate the sum of two numbers.\n",
    "\n",
    "sum_numbers = lambda x, y: x + y\n",
    "\n",
    "# Example usage:\n",
    "result = sum_numbers(5, 3)\n",
    "print(\"Sum:\", result)  # Output: 8\n"
   ]
  },
  {
   "cell_type": "code",
   "execution_count": 24,
   "id": "7e70a585-0db0-4e85-a869-f7e4168ed8a9",
   "metadata": {},
   "outputs": [
    {
     "name": "stdout",
     "output_type": "stream",
     "text": [
      "Square of 5 is: 25\n"
     ]
    }
   ],
   "source": [
    "#23. Write a code that uses a lambda function to calculate the square of a given number.\n",
    "\n",
    "calculate_square = lambda x: x ** 2\n",
    "\n",
    "# Example usage:\n",
    "number = 5\n",
    "square = calculate_square(number)\n",
    "print(\"Square of\", number, \"is:\", square)  # Output: Square of 5 is: 25\n"
   ]
  },
  {
   "cell_type": "code",
   "execution_count": 25,
   "id": "0100e5b9-e4fa-405d-8140-5c3555469715",
   "metadata": {},
   "outputs": [
    {
     "name": "stdout",
     "output_type": "stream",
     "text": [
      "7 is Odd\n"
     ]
    }
   ],
   "source": [
    "#24. Write a code that uses a lambda function to check whether a given number is even or odd.\n",
    "\n",
    "check_even_odd = lambda x: \"Even\" if x % 2 == 0 else \"Odd\"\n",
    "\n",
    "# Example usage:\n",
    "number = 7\n",
    "result = check_even_odd(number)\n",
    "print(number, \"is\", result)  # Output: 7 is Odd\n"
   ]
  },
  {
   "cell_type": "code",
   "execution_count": 26,
   "id": "7166a3bd-4cc0-44ef-a30f-7625a15f2ab1",
   "metadata": {},
   "outputs": [
    {
     "name": "stdout",
     "output_type": "stream",
     "text": [
      "Concatenated string: Hello, world!\n"
     ]
    }
   ],
   "source": [
    "#25. Write a code that uses a lambda function to concatenate two strings.\n",
    "\n",
    "concatenate_strings = lambda s1, s2: s1 + s2\n",
    "\n",
    "# Example usage:\n",
    "string1 = \"Hello, \"\n",
    "string2 = \"world!\"\n",
    "result = concatenate_strings(string1, string2)\n",
    "print(\"Concatenated string:\", result)  # Output: Concatenated string: Hello, world!\n"
   ]
  },
  {
   "cell_type": "code",
   "execution_count": 27,
   "id": "65129e5d-0004-45b5-a914-ef7085fd3d43",
   "metadata": {},
   "outputs": [
    {
     "name": "stdout",
     "output_type": "stream",
     "text": [
      "Maximum number: 10\n"
     ]
    }
   ],
   "source": [
    "#26. Write a code that uses a lambda function to find the maximum of three given numbers.\n",
    "\n",
    "find_max = lambda a, b, c: max(a, b, c)\n",
    "\n",
    "# Example usage:\n",
    "num1 = 10\n",
    "num2 = 5\n",
    "num3 = 8\n",
    "max_num = find_max(num1, num2, num3)\n",
    "print(\"Maximum number:\", max_num)  # Output: Maximum number: 10\n"
   ]
  },
  {
   "cell_type": "code",
   "execution_count": 29,
   "id": "1e15abc0-aee4-46de-b58f-26cd9bdf6612",
   "metadata": {},
   "outputs": [
    {
     "name": "stdout",
     "output_type": "stream",
     "text": [
      "Make: Toyota\n",
      "Model: Corolla\n",
      "Current Speed: 50\n"
     ]
    }
   ],
   "source": [
    "#27. What is encapsulation in OOP?\n",
    "\n",
    "\n",
    "\"\"\"\n",
    "Encapsulation in object-oriented programming (OOP) is like putting things in a box and sealing it shut. \n",
    "It's all about bundling together the data (attributes) and the methods (functions) that operate on that \n",
    "data into a single unit, called a class. The key idea is to hide the internal workings of an object and \n",
    "only expose the necessary parts to the outside world.\n",
    "\"\"\"\n",
    "\n",
    "class Car:\n",
    "    def __init__(self, make, model):\n",
    "        self.make = make    \n",
    "        self.model = model  \n",
    "        self.__speed = 0    \n",
    "\n",
    "    def accelerate(self, amount):\n",
    "        self.__speed += amount\n",
    "\n",
    "    def get_speed(self):\n",
    "        return self.__speed\n",
    "\n",
    "# Creating an instance of the Car class\n",
    "my_car = Car(\"Toyota\", \"Corolla\")\n",
    "\n",
    "# Accessing encapsulated attributes\n",
    "print(\"Make:\", my_car.make)\n",
    "print(\"Model:\", my_car.model)\n",
    "\n",
    "# Trying to access private attribute directly (will result in an error)\n",
    "# print(\"Speed:\", my_car.__speed)\n",
    "\n",
    "# Using methods to interact with encapsulated attributes\n",
    "my_car.accelerate(50)\n",
    "print(\"Current Speed:\", my_car.get_speed())\n"
   ]
  },
  {
   "cell_type": "code",
   "execution_count": 30,
   "id": "932f1e87-e0c7-4779-a776-bfa9500150c7",
   "metadata": {},
   "outputs": [
    {
     "name": "stdout",
     "output_type": "stream",
     "text": [
      "Make: Toyota\n",
      "Model: Corolla\n",
      "Mileage: 0\n",
      "Driving...\n"
     ]
    }
   ],
   "source": [
    "#28. Explain the use of access modifiers in Python classes.\n",
    "\n",
    "\"\"\"Access modifiers in Python classes are like security guards that control access to the attributes \n",
    "and methods of a class. They help enforce encapsulation by determining whether a particular attribute \n",
    "or method can be accessed from outside the class. Python provides three main access modifiers:public, private, protected.\n",
    "\"\"\"\n",
    "\n",
    "class Car:\n",
    "    def __init__(self, make, model):\n",
    "        self.make = make              # Public attribute\n",
    "        self._model = model           # Protected attribute\n",
    "        self.__mileage = 0           # Private attribute\n",
    "\n",
    "    def drive(self):\n",
    "        self.__update_mileage(10)    # Accessing private method\n",
    "        print(\"Driving...\")\n",
    "\n",
    "    def __update_mileage(self, distance):\n",
    "        self.__mileage += distance    # Private method\n",
    "\n",
    "\n",
    "my_car = Car(\"Toyota\", \"Corolla\")\n",
    "print(\"Make:\", my_car.make)\n",
    "print(\"Model:\", my_car._model)\n",
    "print(\"Mileage:\", my_car._Car__mileage)\n",
    "\n",
    "my_car.drive()\n",
    "\n"
   ]
  },
  {
   "cell_type": "code",
   "execution_count": 32,
   "id": "5119226e-a0e7-435a-93bf-5090bf99387d",
   "metadata": {},
   "outputs": [
    {
     "name": "stdout",
     "output_type": "stream",
     "text": [
      "Buddy says Woof!\n",
      "Whiskers says Meow!\n"
     ]
    }
   ],
   "source": [
    "#29. What is inheritance in OOP?\n",
    "\n",
    "\"\"\"\n",
    "Inheritance in object-oriented programming (OOP) is like passing down traits from parents \n",
    "to their children. It's a mechanism that allows a new class to inherit attributes and methods from an existing class\n",
    "\"\"\"\n",
    "\n",
    "class Animal:\n",
    "    def __init__(self, name):\n",
    "        self.name = name\n",
    "\n",
    "    def speak(self):\n",
    "        raise NotImplementedError(\"Subclass must implement abstract method\")\n",
    "\n",
    "\n",
    "class Dog(Animal):  # Dog is a subclass of Animal\n",
    "    def speak(self):\n",
    "        return f\"{self.name} says Woof!\"\n",
    "\n",
    "\n",
    "class Cat(Animal):  # Cat is a subclass of Animal\n",
    "    def speak(self):\n",
    "        return f\"{self.name} says Meow!\"\n",
    "\n",
    "\n",
    "dog = Dog(\"Buddy\")\n",
    "cat = Cat(\"Whiskers\")\n",
    "\n",
    "\n",
    "print(dog.speak())  \n",
    "print(cat.speak()) \n"
   ]
  },
  {
   "cell_type": "code",
   "execution_count": 33,
   "id": "07a792b2-b3e8-45ac-a9cc-116d729ae574",
   "metadata": {},
   "outputs": [
    {
     "name": "stdout",
     "output_type": "stream",
     "text": [
      "Woof!\n",
      "Meow!\n"
     ]
    }
   ],
   "source": [
    "#30. Define polymorphism in OOP.\n",
    "\n",
    "\"\"\"\n",
    "Polymorphism in object-oriented programming (OOP) is like a shape-shifter—it allows objects of \n",
    "different classes to be treated as objects of a common superclass. In simpler terms, polymorphism \n",
    "allows methods to do different things based on the object that they are acting upon.\n",
    "There are two main types of polymorphism: Compile time & Run Time.\n",
    "\"\"\"\n",
    "\n",
    "class Animal:\n",
    "    def speak(self):\n",
    "        raise NotImplementedError(\"Subclass must implement abstract method\")\n",
    "\n",
    "\n",
    "class Dog(Animal):\n",
    "    def speak(self):\n",
    "        return \"Woof!\"\n",
    "\n",
    "\n",
    "class Cat(Animal):\n",
    "    def speak(self):\n",
    "        return \"Meow!\"\n",
    "\n",
    "\n",
    "def make_animal_speak(animal):\n",
    "    return animal.speak()\n",
    "\n",
    "dog = Dog()\n",
    "cat = Cat()\n",
    "\n",
    "print(make_animal_speak(dog)) \n",
    "print(make_animal_speak(cat)) \n"
   ]
  },
  {
   "cell_type": "code",
   "execution_count": 36,
   "id": "55c9cceb-df1c-4bb3-bbcf-9964f69989fe",
   "metadata": {},
   "outputs": [
    {
     "name": "stdout",
     "output_type": "stream",
     "text": [
      "Woof!\n",
      "Meow!\n"
     ]
    }
   ],
   "source": [
    "#31. Explain method overriding in Python.\n",
    "\n",
    "\"\"\"\n",
    "Suppose we have a superclass with a method.\n",
    "When we create a subclass, we can redefine (override) that method with a new implementation specific to the subclass.\n",
    "When we call the overridden method on an object of the subclass, Python automatically uses the subclass version\n",
    "of the method instead of the superclass version.\n",
    "\"\"\"\n",
    "\n",
    "class Animal:\n",
    "    def make_sound(self):\n",
    "        return \"Generic animal sound\"\n",
    "\n",
    "\n",
    "class Dog(Animal):\n",
    "    def make_sound(self):\n",
    "        return \"Woof!\"\n",
    "\n",
    "\n",
    "class Cat(Animal):\n",
    "    def make_sound(self):\n",
    "        return \"Meow!\"\n",
    "\n",
    "dog = Dog()\n",
    "cat = Cat()\n",
    "\n",
    "print(dog.make_sound())  \n",
    "print(cat.make_sound())  \n"
   ]
  },
  {
   "cell_type": "code",
   "execution_count": 37,
   "id": "a3c85aaa-be3d-480c-a1bc-dd62fc54f7c8",
   "metadata": {},
   "outputs": [
    {
     "name": "stdout",
     "output_type": "stream",
     "text": [
      "Woof!\n"
     ]
    }
   ],
   "source": [
    "#32. Define a parent class Animal with a method make_sound that prints \"Generic animal sound\". Create a child class Dog inheriting from Animal with a method make_sound that prints \"Woof!\".\n",
    "\n",
    "class Animal:\n",
    "    def make_sound(self):\n",
    "        print(\"Generic animal sound\")\n",
    "\n",
    "\n",
    "class Dog(Animal):\n",
    "    def make_sound(self):\n",
    "        print(\"Woof!\")\n",
    "\n",
    "\n",
    "# Creating an instance of Dog\n",
    "dog = Dog()\n",
    "\n",
    "# Calling the make_sound method on the Dog object\n",
    "dog.make_sound()  # Output: Woof!\n"
   ]
  },
  {
   "cell_type": "code",
   "execution_count": 38,
   "id": "5b4231b8-7988-420c-bee4-9d8d488cc20a",
   "metadata": {},
   "outputs": [
    {
     "name": "stdout",
     "output_type": "stream",
     "text": [
      "Dog runs\n"
     ]
    }
   ],
   "source": [
    "#33. Define a method move in the Animal class that prints \"Animal moves\". Override the move method in the Dog class to print \"Dog runs.\"\n",
    "\n",
    "\n",
    "class Animal:\n",
    "    def move(self):\n",
    "        print(\"Animal moves\")\n",
    "\n",
    "\n",
    "class Dog(Animal):\n",
    "    def move(self):\n",
    "        print(\"Dog runs\")\n",
    "\n",
    "dog = Dog()\n",
    "\n",
    "dog.move()  \n"
   ]
  },
  {
   "cell_type": "code",
   "execution_count": 40,
   "id": "dd8a57d2-506b-4615-bbc1-856e795f103a",
   "metadata": {},
   "outputs": [
    {
     "name": "stdout",
     "output_type": "stream",
     "text": [
      "Giving birth to live young.\n"
     ]
    }
   ],
   "source": [
    "#34. Create a class Mammal with a method reproduce that prints \"Giving birth to live young.\" Create a class DogMammal inheriting from both Dog and Mammal.\n",
    "\n",
    "\n",
    "class Mammal:\n",
    "    def reproduce(self):\n",
    "        print(\"Giving birth to live young.\")\n",
    "\n",
    "\n",
    "class Animal:\n",
    "    def move(self):\n",
    "        print(\"Animal moves\")\n",
    "\n",
    "\n",
    "class DogMammal(Animal, Mammal):\n",
    "    pass\n",
    "\n",
    "\n",
    "dog_mammal = DogMammal()\n",
    "\n",
    "dog_mammal.reproduce() "
   ]
  },
  {
   "cell_type": "code",
   "execution_count": 42,
   "id": "9c42978c-597a-43be-b133-13792c3bbabe",
   "metadata": {},
   "outputs": [
    {
     "name": "stdout",
     "output_type": "stream",
     "text": [
      "Bark!\n"
     ]
    }
   ],
   "source": [
    "#35. Create a class GermanShepherd inheriting from Dog and override the make_sound method to print \"Bark!\"\n",
    "\n",
    "\n",
    "class Dog:\n",
    "    def make_sound(self):\n",
    "        print(\"Generic dog sound\")\n",
    "\n",
    "\n",
    "class GermanShepherd(Dog):\n",
    "    def make_sound(self):\n",
    "        print(\"Bark!\")\n",
    "\n",
    "german_shepherd = GermanShepherd()\n",
    "\n",
    "german_shepherd.make_sound()  \n"
   ]
  },
  {
   "cell_type": "code",
   "execution_count": 43,
   "id": "683eb8ee-164c-4b74-ab81-09f7a66d4694",
   "metadata": {},
   "outputs": [
    {
     "name": "stdout",
     "output_type": "stream",
     "text": [
      "Animal species: Lion\n",
      "Dog breed: Labrador\n",
      "Animal moves\n",
      "Woof!\n"
     ]
    }
   ],
   "source": [
    "#36. Define constructors in both the Animal and Dog classes with different initialization parameters.\n",
    "\n",
    "class Animal:\n",
    "    def __init__(self, species):\n",
    "        self.species = species\n",
    "\n",
    "    def move(self):\n",
    "        print(\"Animal moves\")\n",
    "\n",
    "\n",
    "class Dog(Animal):\n",
    "    def __init__(self, breed):\n",
    "        self.breed = breed\n",
    "\n",
    "    def make_sound(self):\n",
    "        print(\"Woof!\")\n",
    "\n",
    "animal = Animal(\"Lion\")\n",
    "dog = Dog(\"Labrador\")\n",
    "print(\"Animal species:\", animal.species)\n",
    "print(\"Dog breed:\", dog.breed)\n",
    "animal.move()\n",
    "dog.make_sound()\n"
   ]
  },
  {
   "cell_type": "code",
   "execution_count": 47,
   "id": "298a5ba8-f78e-4a8c-b80e-cbd82c79ba95",
   "metadata": {},
   "outputs": [
    {
     "name": "stdout",
     "output_type": "stream",
     "text": [
      "Area of Circle: 78.5\n",
      "Perimeter of Circle: 31.400000000000002\n",
      "Area of Square: 16\n",
      "Perimeter of Square: 16\n"
     ]
    }
   ],
   "source": [
    "#37. What is abstraction in Python? How is it implemented?\n",
    "\n",
    "\"\"\"\n",
    "Abstraction in Python is like using a remote control without knowing how it works inside—it allows us to focus on \n",
    "the essential details while hiding the complex implementation details. In object-oriented programming (OOP), \n",
    "abstraction refers to the concept of hiding the internal workings of a class and only exposing the necessary \n",
    "features to the outside world.\n",
    "\n",
    "Abstraction is implemented in Python through classes and interfaces. Classes provide a blueprint for \n",
    "creating objects, while interfaces define a set of methods that must be implemented by classes. \n",
    "By using classes and interfaces, we can create abstract data types and define their behaviors without \n",
    "worrying about the implementation details.\n",
    "\"\"\"\n",
    "\n",
    "\n",
    "from abc import ABC, abstractmethod\n",
    "\n",
    "class Shape(ABC):\n",
    "    @abstractmethod\n",
    "    def area(self):\n",
    "        pass\n",
    "\n",
    "    @abstractmethod\n",
    "    def perimeter(self):\n",
    "        pass\n",
    "\n",
    "class Circle(Shape):\n",
    "    def __init__(self, radius):\n",
    "        self.radius = radius\n",
    "\n",
    "    def area(self):\n",
    "        return 3.14 * self.radius ** 2\n",
    "\n",
    "    def perimeter(self):\n",
    "        return 2 * 3.14 * self.radius\n",
    "\n",
    "class Square(Shape):\n",
    "    def __init__(self, side):\n",
    "        self.side = side\n",
    "\n",
    "    def area(self):\n",
    "        return self.side ** 2\n",
    "\n",
    "    def perimeter(self):\n",
    "        return 4 * self.side\n",
    "\n",
    "# Creating instances of Circle and Square\n",
    "circle = Circle(5)\n",
    "square = Square(4)\n",
    "\n",
    "\n",
    "print(\"Area of Circle:\", circle.area())     \n",
    "print(\"Perimeter of Circle:\", circle.perimeter())  \n",
    "\n",
    "\n",
    "print(\"Area of Square:\", square.area())        \n",
    "print(\"Perimeter of Square:\", square.perimeter()) \n"
   ]
  },
  {
   "cell_type": "code",
   "execution_count": 48,
   "id": "291142ce-9498-4e17-a018-c59415813598",
   "metadata": {},
   "outputs": [
    {
     "data": {
      "text/plain": [
       "\"\\nAbstraction in object-oriented programming is like using a TV remote control without \\nunderstanding the inner circuitry—it hides complex implementation details and focuses \\non essential features. It allows programmers to deal with high-level concepts and ignore \\nunnecessary details, leading to cleaner and more maintainable code.\\n\\nSimplification: Abstraction simplifies complex systems by breaking them down into manageable parts. \\nIt allows developers to focus on what's important at each level of abstraction without getting bogged down by unnecessary details.\\n\\nModularity: Abstraction promotes modularity by encapsulating related functionality into cohesive units. \\nThis makes it easier to understand and maintain the codebase, as changes to one part of the system have minimal impact on other parts.\\n\\nReusability: Abstraction encourages code reuse by creating generic interfaces that can be implemented by different classes. \\nThis reduces duplication and promotes a more efficient development process.\\n\\nFlexibility: Abstraction allows for flexibility in design by decoupling the interface from the implementation. \\nThis means that changes to the underlying implementation can be made without affecting the overall behavior of the system.\\n\\nEase of Testing: Abstraction facilitates unit testing and debugging by isolating components from each other. \\nThis makes it easier to identify and fix issues within the codebase.\\n\\nFor example, consider a car. From a driver's perspective, a car can be abstracted as a simple \\ninterface with methods like start(), accelerate(), and brake(). The driver doesn't need to \\nunderstand the inner workings of the engine or transmission to operate the car effectively. \\nSimilarly, a mechanic may need a more detailed abstraction with methods like check_engine(), \\ninspect_transmission(), and replace_brakes(). Both perspectives provide the necessary level of \\nabstraction for their respective tasks, hiding unnecessary details and focusing on what's important.\\n\""
      ]
     },
     "execution_count": 48,
     "metadata": {},
     "output_type": "execute_result"
    }
   ],
   "source": [
    "#38. Explain the importance of abstraction in object-oriented programming.\n",
    "\n",
    "\"\"\"\n",
    "Abstraction in object-oriented programming is like using a TV remote control without \n",
    "understanding the inner circuitry—it hides complex implementation details and focuses \n",
    "on essential features. It allows programmers to deal with high-level concepts and ignore \n",
    "unnecessary details, leading to cleaner and more maintainable code.\n",
    "\n",
    "Simplification: Abstraction simplifies complex systems by breaking them down into manageable parts. \n",
    "It allows developers to focus on what's important at each level of abstraction without getting bogged down by unnecessary details.\n",
    "\n",
    "Modularity: Abstraction promotes modularity by encapsulating related functionality into cohesive units. \n",
    "This makes it easier to understand and maintain the codebase, as changes to one part of the system have minimal impact on other parts.\n",
    "\n",
    "Reusability: Abstraction encourages code reuse by creating generic interfaces that can be implemented by different classes. \n",
    "This reduces duplication and promotes a more efficient development process.\n",
    "\n",
    "Flexibility: Abstraction allows for flexibility in design by decoupling the interface from the implementation. \n",
    "This means that changes to the underlying implementation can be made without affecting the overall behavior of the system.\n",
    "\n",
    "Ease of Testing: Abstraction facilitates unit testing and debugging by isolating components from each other. \n",
    "This makes it easier to identify and fix issues within the codebase.\n",
    "\n",
    "For example, consider a car. From a driver's perspective, a car can be abstracted as a simple \n",
    "interface with methods like start(), accelerate(), and brake(). The driver doesn't need to \n",
    "understand the inner workings of the engine or transmission to operate the car effectively. \n",
    "Similarly, a mechanic may need a more detailed abstraction with methods like check_engine(), \n",
    "inspect_transmission(), and replace_brakes(). Both perspectives provide the necessary level of \n",
    "abstraction for their respective tasks, hiding unnecessary details and focusing on what's important.\n",
    "\"\"\"\n",
    "\n"
   ]
  },
  {
   "cell_type": "code",
   "execution_count": 51,
   "id": "8638b50e-3608-4219-9d9f-65ac6a65c90a",
   "metadata": {},
   "outputs": [
    {
     "name": "stdout",
     "output_type": "stream",
     "text": [
      "Woof!\n",
      "Animal moves\n",
      "Dog fetches\n"
     ]
    }
   ],
   "source": [
    "#39. How are abstract methods different from regular methods in Python?\n",
    "\n",
    "\n",
    "'''\n",
    "Abstract methods and regular methods in Python are like blueprints and actual buildings. \n",
    "Abstract methods provide a blueprint for what a method should do, but they don't provide the actual implementation. \n",
    "Regular methods, on the other hand, are fully implemented and can be directly called to perform a specific task.\n",
    "\n",
    "Here's how abstract methods and regular methods are different:\n",
    "\n",
    "Definition: Abstract methods are defined in abstract classes using the @abstractmethod decorator, \n",
    "but they don't contain any implementation. Regular methods, on the other hand, are defined with a method body that \n",
    "contains the actual implementation.\n",
    "\n",
    "Implementation: Abstract methods must be overridden in subclasses to provide their implementation, \n",
    "while regular methods don't require overriding as they already have a defined implementation.\n",
    "\n",
    "Usage: Abstract methods are used to define a common interface that subclasses must adhere to, \n",
    "promoting consistency and modularity. Regular methods are used to perform specific tasks within a class or object.\n",
    "'''\n",
    "\n",
    "from abc import ABC, abstractmethod\n",
    "\n",
    "class Animal(ABC):\n",
    "    @abstractmethod\n",
    "    def make_sound(self):\n",
    "        pass\n",
    "\n",
    "    def move(self):\n",
    "        print(\"Animal moves\")\n",
    "\n",
    "class Dog(Animal):\n",
    "    def make_sound(self):\n",
    "        print(\"Woof!\")\n",
    "\n",
    "    def fetch(self):\n",
    "        print(\"Dog fetches\")\n",
    "\n",
    "# Creating instances of Dog\n",
    "dog = Dog()\n",
    "\n",
    "# Calling abstract method make_sound\n",
    "dog.make_sound() \n",
    "\n",
    "# Calling regular method move\n",
    "dog.move()        \n",
    "\n",
    "dog.fetch()      \n",
    "\n"
   ]
  },
  {
   "cell_type": "code",
   "execution_count": 52,
   "id": "221f6dbd-f5df-4901-81c8-9073520c673b",
   "metadata": {},
   "outputs": [
    {
     "name": "stdout",
     "output_type": "stream",
     "text": [
      "Area of Circle: 78.5\n",
      "Perimeter of Circle: 31.400000000000002\n",
      "Area of Square: 16\n",
      "Perimeter of Square: 16\n"
     ]
    }
   ],
   "source": [
    "#40. How can you achieve abstraction using interfaces in Python?\n",
    "\n",
    "'''\n",
    "In Python, abstraction using interfaces can be achieved by defining a set of methods in an abstract base class \n",
    "(ABC) using the @abstractmethod decorator. These methods serve as a contract or interface that concrete subclasses \n",
    "must implement. By adhering to this interface, subclasses provide their own implementations for these abstract methods, \n",
    "thereby achieving abstraction.\n",
    "'''\n",
    "\n",
    "from abc import ABC, abstractmethod\n",
    "\n",
    "class Shape(ABC):\n",
    "    @abstractmethod\n",
    "    def area(self):\n",
    "        pass\n",
    "\n",
    "    @abstractmethod\n",
    "    def perimeter(self):\n",
    "        pass\n",
    "\n",
    "class Circle(Shape):\n",
    "    def __init__(self, radius):\n",
    "        self.radius = radius\n",
    "\n",
    "    def area(self):\n",
    "        return 3.14 * self.radius ** 2\n",
    "\n",
    "    def perimeter(self):\n",
    "        return 2 * 3.14 * self.radius\n",
    "\n",
    "class Square(Shape):\n",
    "    def __init__(self, side):\n",
    "        self.side = side\n",
    "\n",
    "    def area(self):\n",
    "        return self.side ** 2\n",
    "\n",
    "    def perimeter(self):\n",
    "        return 4 * self.side\n",
    "\n",
    "# Creating instances of Circle and Square\n",
    "circle = Circle(5)\n",
    "square = Square(4)\n",
    "\n",
    "# Calculating area and perimeter of Circle\n",
    "print(\"Area of Circle:\", circle.area())     \n",
    "print(\"Perimeter of Circle:\", circle.perimeter())  \n",
    "\n",
    "# Calculating area and perimeter of Square\n",
    "print(\"Area of Square:\", square.area())      \n",
    "print(\"Perimeter of Square:\", square.perimeter())  \n"
   ]
  },
  {
   "cell_type": "code",
   "execution_count": 53,
   "id": "662414ce-fd5b-40c3-b54c-87aed7a2a685",
   "metadata": {},
   "outputs": [
    {
     "name": "stdout",
     "output_type": "stream",
     "text": [
      "Dog says: Woof!\n",
      "Cat says: Meow!\n",
      "Cow says: Moo!\n"
     ]
    }
   ],
   "source": [
    "#41. Can you provide an example of how abstraction can be utilized to create a common interface for a group of related classes in Python?\n",
    "\n",
    "from abc import ABC, abstractmethod\n",
    "\n",
    "class Animal(ABC):\n",
    "    @abstractmethod\n",
    "    def make_sound(self):\n",
    "        pass\n",
    "\n",
    "class Dog(Animal):\n",
    "    def make_sound(self):\n",
    "        return \"Woof!\"\n",
    "\n",
    "class Cat(Animal):\n",
    "    def make_sound(self):\n",
    "        return \"Meow!\"\n",
    "\n",
    "class Cow(Animal):\n",
    "    def make_sound(self):\n",
    "        return \"Moo!\"\n",
    "\n",
    "# Function to make animals sound\n",
    "def make_animal_sound(animal):\n",
    "    return animal.make_sound()\n",
    "\n",
    "# Creating instances of Dog, Cat, and Cow\n",
    "dog = Dog()\n",
    "cat = Cat()\n",
    "cow = Cow()\n",
    "\n",
    "# Making sounds of different animals using abstraction\n",
    "print(\"Dog says:\", make_animal_sound(dog))  # Output: Dog says: Woof!\n",
    "print(\"Cat says:\", make_animal_sound(cat))  # Output: Cat says: Meow!\n",
    "print(\"Cow says:\", make_animal_sound(cow))  # Output: Cow says: Moo!\n"
   ]
  },
  {
   "cell_type": "code",
   "execution_count": 55,
   "id": "571c45b3-43c9-42a9-aeea-0c35d5339e9e",
   "metadata": {},
   "outputs": [
    {
     "name": "stdout",
     "output_type": "stream",
     "text": [
      "Woof!\n",
      "Meow!\n"
     ]
    }
   ],
   "source": [
    "#42. How does Python achieve polymorphism through method overriding?\n",
    "\n",
    "'''\n",
    "In Python, polymorphism through method overriding is achieved by allowing subclasses to provide their\n",
    "own implementation of methods that are already defined in their superclass. When a method is called on an \n",
    "object of the subclass, Python checks if the subclass has overridden that method. If it has, Python uses the \n",
    "subclass's implementation; if not, it uses the superclass's implementation.\n",
    "'''\n",
    "\n",
    "class Animal:\n",
    "    def make_sound(self):\n",
    "        return \"Generic animal sound\"\n",
    "\n",
    "class Dog(Animal):\n",
    "    def make_sound(self):\n",
    "        return \"Woof!\"\n",
    "\n",
    "class Cat(Animal):\n",
    "    def make_sound(self):\n",
    "        return \"Meow!\"\n",
    "\n",
    "# Creating instances of Dog and Cat\n",
    "dog = Dog()\n",
    "cat = Cat()\n",
    "\n",
    "# Calling the make_sound method on Dog and Cat objects\n",
    "print(dog.make_sound()) \n",
    "print(cat.make_sound()) \n"
   ]
  },
  {
   "cell_type": "code",
   "execution_count": 57,
   "id": "7c36685e-75fc-4f06-9f9f-e7b6595d77bf",
   "metadata": {},
   "outputs": [
    {
     "name": "stdout",
     "output_type": "stream",
     "text": [
      "This is a shape.\n",
      "This is a square.\n"
     ]
    }
   ],
   "source": [
    "#43. Define a base class with a method and a subclass that overrides the method.\n",
    "\n",
    "class Shape:\n",
    "    def description(self):\n",
    "        return \"This is a shape.\"\n",
    "\n",
    "class Square(Shape):\n",
    "    def description(self):\n",
    "        return \"This is a square.\"\n",
    "\n",
    "# Creating instances of Shape and Square\n",
    "shape = Shape()\n",
    "square = Square()\n",
    "\n",
    "# Calling the description method on Shape and Square objects\n",
    "print(shape.description())  \n",
    "print(square.description()) \n"
   ]
  },
  {
   "cell_type": "code",
   "execution_count": 59,
   "id": "f72c09d2-b6eb-43e4-a764-c52b022e9669",
   "metadata": {},
   "outputs": [
    {
     "name": "stdout",
     "output_type": "stream",
     "text": [
      "Car is being driven.\n",
      "Truck is being driven.\n",
      "Motorcycle is being driven.\n"
     ]
    }
   ],
   "source": [
    "#44. Define a base class and multiple subclasses with overridden methods.\n",
    "\n",
    "class Vehicle:\n",
    "    def drive(self):\n",
    "        return \"Vehicle is being driven.\"\n",
    "\n",
    "class Car(Vehicle):\n",
    "    def drive(self):\n",
    "        return \"Car is being driven.\"\n",
    "\n",
    "class Truck(Vehicle):\n",
    "    def drive(self):\n",
    "        return \"Truck is being driven.\"\n",
    "\n",
    "class Motorcycle(Vehicle):\n",
    "    def drive(self):\n",
    "        return \"Motorcycle is being driven.\"\n",
    "\n",
    "# Creating instances of Car, Truck, and Motorcycle\n",
    "car = Car()\n",
    "truck = Truck()\n",
    "motorcycle = Motorcycle()\n",
    "\n",
    "# Calling the drive method on Car, Truck, and Motorcycle objects\n",
    "print(car.drive())        \n",
    "print(truck.drive())       \n",
    "print(motorcycle.drive()) \n"
   ]
  },
  {
   "cell_type": "code",
   "execution_count": 60,
   "id": "e5890aea-28fb-44ec-abc7-de3c3f0afd7f",
   "metadata": {},
   "outputs": [
    {
     "data": {
      "text/plain": [
       "'\\nPolymorphism improves code readability and reusability by allowing us to write more flexible and concise code that can \\nwork with objects of different types without knowing their specific details. \\n\\nReadability: Polymorphism makes the code easier to understand because it allows us to work with objects at \\na higher level of abstraction. Instead of dealing with specific implementations, we can focus on the common \\ninterface provided by the superclass. This abstraction helps to hide unnecessary details and makes the code more readable by conveying the intent of the program more clearly.\\n\\nReusability: Polymorphism promotes code reuse by enabling us to write generic code that can be applied to a \\nwide range of objects. Since polymorphic code operates on common interfaces rather than concrete implementations, \\nit can be reused with different types of objects without modification. This reduces duplication and promotes a more \\nmodular and maintainable codebase.\\n'"
      ]
     },
     "execution_count": 60,
     "metadata": {},
     "output_type": "execute_result"
    }
   ],
   "source": [
    "#45. How does polymorphism improve code readability and reusability?\n",
    "\n",
    "'''\n",
    "Polymorphism improves code readability and reusability by allowing us to write more flexible and concise code that can \n",
    "work with objects of different types without knowing their specific details. \n",
    "\n",
    "Readability: Polymorphism makes the code easier to understand because it allows us to work with objects at \n",
    "a higher level of abstraction. Instead of dealing with specific implementations, we can focus on the common \n",
    "interface provided by the superclass. This abstraction helps to hide unnecessary details and makes the code more readable by conveying the intent of the program more clearly.\n",
    "\n",
    "Reusability: Polymorphism promotes code reuse by enabling us to write generic code that can be applied to a \n",
    "wide range of objects. Since polymorphic code operates on common interfaces rather than concrete implementations, \n",
    "it can be reused with different types of objects without modification. This reduces duplication and promotes a more \n",
    "modular and maintainable codebase.\n",
    "'''\n",
    "\n"
   ]
  },
  {
   "cell_type": "code",
   "execution_count": 61,
   "id": "69d9bd82-6d55-4738-a86f-4a73264d0e18",
   "metadata": {},
   "outputs": [
    {
     "name": "stdout",
     "output_type": "stream",
     "text": [
      "Quack!\n",
      "Woof!\n"
     ]
    }
   ],
   "source": [
    "#46. Describe how Python supports polymorphism with duck typing.\n",
    "\n",
    "'''\n",
    "Python supports polymorphism through duck typing, which is a concept that focuses on an object's \n",
    "behavior rather than its type. In simple terms, if an object can perform a certain action, \n",
    "Python doesn't care about its specific type; it treats it as if it's the expected type.\n",
    "'''\n",
    "\n",
    "class Duck:\n",
    "    def sound(self):\n",
    "        return \"Quack!\"\n",
    "\n",
    "class Dog:\n",
    "    def sound(self):\n",
    "        return \"Woof!\"\n",
    "\n",
    "# A function that accepts any object with a sound method\n",
    "def make_sound(animal):\n",
    "    return animal.sound()\n",
    "\n",
    "# Creating instances of Duck and Dog\n",
    "duck = Duck()\n",
    "dog = Dog()\n",
    "\n",
    "# Calling the make_sound function with different objects\n",
    "print(make_sound(duck))  \n",
    "print(make_sound(dog))  \n"
   ]
  },
  {
   "cell_type": "code",
   "execution_count": 63,
   "id": "aa9b86df-786f-49c8-a9c0-3f9c7b26e861",
   "metadata": {},
   "outputs": [
    {
     "name": "stdout",
     "output_type": "stream",
     "text": [
      "Name: Alice\n",
      "Age: 30\n",
      "Updated Name: Bob\n",
      "Updated Age: 25\n"
     ]
    }
   ],
   "source": [
    "#47. How do you achieve encapsulation in Python?\n",
    "\n",
    "'''\n",
    "Encapsulation in Python is achieved by bundling the data (attributes) and \n",
    "methods that operate on the data within a single unit, typically a class. \n",
    "This allows for better control over access to the data and prevents it from \n",
    "being directly manipulated from outside the class. In essence, encapsulation \n",
    "hides the internal implementation details of a class and exposes only the necessary \n",
    "functionality through well-defined interfaces.\n",
    "'''\n",
    "\n",
    "class Person:\n",
    "    def __init__(self, name, age):\n",
    "        self._name = name  # Encapsulated attribute\n",
    "        self._age = age    # Encapsulated attribute\n",
    "\n",
    "    def get_name(self):\n",
    "        return self._name\n",
    "\n",
    "    def set_name(self, name):\n",
    "        self._name = name\n",
    "\n",
    "    def get_age(self):\n",
    "        return self._age\n",
    "\n",
    "    def set_age(self, age):\n",
    "        if age > 0:\n",
    "            self._age = age\n",
    "        else:\n",
    "            print(\"Age must be a positive integer.\")\n",
    "\n",
    "# Creating an instance of Person\n",
    "person = Person(\"Alice\", 30)\n",
    "\n",
    "# Accessing encapsulated attributes using getter methods\n",
    "print(\"Name:\", person.get_name()) \n",
    "print(\"Age:\", person.get_age())    \n",
    "\n",
    "# Modifying encapsulated attributes using setter methods\n",
    "person.set_name(\"Bob\")\n",
    "person.set_age(25)\n",
    "\n",
    "# Accessing modified attributes\n",
    "print(\"Updated Name:\", person.get_name()) \n",
    "print(\"Updated Age:\", person.get_age())  \n"
   ]
  },
  {
   "cell_type": "code",
   "execution_count": 65,
   "id": "7be85108-91ed-4289-88a3-3bd20a0b9b1d",
   "metadata": {},
   "outputs": [
    {
     "name": "stdout",
     "output_type": "stream",
     "text": [
      "Alice\n"
     ]
    }
   ],
   "source": [
    "#48. Can encapsulation be bypassed in Python? If so, how?\n",
    "\n",
    "\n",
    "\"\"\"\n",
    "Yes, encapsulation can be bypassed in Python to some extent, although it goes against \n",
    "the principle of encapsulation and is generally discouraged. Python does not enforce strict \n",
    "access control like some other programming languages, such as Java. However, Python provides \n",
    "mechanisms to indicate intended privacy of attributes and methods through naming conventions \n",
    "and access restrictions.\n",
    "\"\"\"\n",
    "\n",
    "class Person:\n",
    "    def __init__(self, name):\n",
    "        self._name = name  # Encapsulated attribute with single underscore\n",
    "\n",
    "# Creating an instance of Person\n",
    "person = Person(\"Alice\")\n",
    "\n",
    "# Bypassing encapsulation by accessing the attribute directly\n",
    "print(person._name)  # Output: Alice\n",
    "\n",
    "# Bypassing encapsulation by using name mangling (incorrect)\n",
    "# print(person._Person__name)  # This line throws an AttributeError\n"
   ]
  },
  {
   "cell_type": "code",
   "execution_count": 68,
   "id": "25cc7ba1-7243-45a4-9321-ae695c333bab",
   "metadata": {},
   "outputs": [
    {
     "name": "stdout",
     "output_type": "stream",
     "text": [
      "Deposited $500.\n",
      "Current Balance: Rs.1500\n",
      "Withdrew Rs.200.\n",
      "Current Balance: Rs.1300\n",
      "Withdrawal amount exceeds balance.\n",
      "Current Balance: Rs.1300\n"
     ]
    }
   ],
   "source": [
    "#49. Implement a class BankAccount with a private balance attribute. Include methods to deposit, withdraw, and check the balance.\n",
    "\n",
    "class BankAccount:\n",
    "    def __init__(self, initial_balance=0):\n",
    "        self.__balance = initial_balance  # Private balance attribute\n",
    "\n",
    "    def deposit(self, amount):\n",
    "        if amount > 0:\n",
    "            self.__balance += amount\n",
    "            print(f\"Deposited ${amount}.\")\n",
    "        else:\n",
    "            print(\"Deposit amount must be greater than 0.\")\n",
    "\n",
    "    def withdraw(self, amount):\n",
    "        if 0 < amount <= self.__balance:\n",
    "            self.__balance -= amount\n",
    "            print(f\"Withdrew Rs.{amount}.\")\n",
    "        else:\n",
    "            print(\"Withdrawal amount exceeds balance.\")\n",
    "\n",
    "    def check_balance(self):\n",
    "        print(f\"Current Balance: Rs.{self.__balance}\")\n",
    "\n",
    "# Creating an instance of BankAccount\n",
    "account = BankAccount(1000)\n",
    "\n",
    "# Depositing and checking balance\n",
    "account.deposit(500)         \n",
    "account.check_balance()      \n",
    "\n",
    "# Withdrawing and checking balance\n",
    "account.withdraw(200)       \n",
    "account.check_balance()      \n",
    "\n",
    "# Trying to withdraw more than the balance\n",
    "account.withdraw(1500)      \n",
    "account.check_balance()     \n",
    "\n",
    "    \n",
    "    \n",
    "    "
   ]
  },
  {
   "cell_type": "code",
   "execution_count": 69,
   "id": "e4a2b94f-7b05-475d-9532-122cf13b0b39",
   "metadata": {},
   "outputs": [
    {
     "name": "stdout",
     "output_type": "stream",
     "text": [
      "Initial Email: alice@example.com\n",
      "Updated Email: alice.smith@example.com\n"
     ]
    }
   ],
   "source": [
    "#50. Develop a Person class with private attributes name and email, and methods to set and get the email.\n",
    "\n",
    "class Person:\n",
    "    def __init__(self, name, email):\n",
    "        self.__name = name  # Private attribute for name\n",
    "        self.__email = email  # Private attribute for email\n",
    "\n",
    "    def set_email(self, email):\n",
    "        self.__email = email\n",
    "\n",
    "    def get_email(self):\n",
    "        return self.__email\n",
    "\n",
    "# Creating an instance of Person\n",
    "person = Person(\"Alice\", \"alice@example.com\")\n",
    "\n",
    "# Getting the initial email\n",
    "print(\"Initial Email:\", person.get_email())  # Output: Initial Email: alice@example.com\n",
    "\n",
    "# Changing the email\n",
    "person.set_email(\"alice.smith@example.com\")\n",
    "\n",
    "# Getting the updated email\n",
    "print(\"Updated Email:\", person.get_email())  # Output: Updated Email: alice.smith@example.com\n"
   ]
  },
  {
   "cell_type": "code",
   "execution_count": 70,
   "id": "8bc3fc2b-a7fa-4cea-bc09-5d292bac1a53",
   "metadata": {},
   "outputs": [
    {
     "data": {
      "text/plain": [
       "'\\nEncapsulation is considered a pillar of object-oriented programming (OOP) because it \\npromotes the bundling of data (attributes) and methods (behavior) into a single unit \\n(class). This bundling hides the internal implementation details of a class and exposes \\nonly the necessary functionality through well-defined interfaces. Encapsulation enhances \\ncode modularity, improves code maintainability, and helps prevent unintended interference \\nand misuse of data. Overall, encapsulation fosters code organization, reusability, and robustness in OOP.\\n'"
      ]
     },
     "execution_count": 70,
     "metadata": {},
     "output_type": "execute_result"
    }
   ],
   "source": [
    "#51. Why is encapsulation considered a pillar of object-oriented programming (OOP)?\n",
    "\n",
    "\"\"\"\n",
    "Encapsulation is considered a pillar of object-oriented programming (OOP) because it \n",
    "promotes the bundling of data (attributes) and methods (behavior) into a single unit \n",
    "(class). This bundling hides the internal implementation details of a class and exposes \n",
    "only the necessary functionality through well-defined interfaces. Encapsulation enhances \n",
    "code modularity, improves code maintainability, and helps prevent unintended interference \n",
    "and misuse of data. Overall, encapsulation fosters code organization, reusability, and robustness in OOP.\n",
    "\"\"\"\n",
    "\n"
   ]
  },
  {
   "cell_type": "code",
   "execution_count": 71,
   "id": "80659c4b-c96b-412a-b5f1-6e41cb0bc1b7",
   "metadata": {},
   "outputs": [
    {
     "name": "stdout",
     "output_type": "stream",
     "text": [
      "Before executing the function...\n",
      "After executing the function...\n",
      "Result: 8\n"
     ]
    }
   ],
   "source": [
    "#52. Create a decorator in Python that adds functionality to a simple function by printing a message before and after the function execution.\n",
    "\n",
    "def function_decorator(func):\n",
    "    def wrapper(*args, **kwargs):\n",
    "        print(\"Before executing the function...\")\n",
    "        result = func(*args, **kwargs)\n",
    "        print(\"After executing the function...\")\n",
    "        return result\n",
    "    return wrapper\n",
    "\n",
    "# Define a simple function to be decorated\n",
    "@function_decorator\n",
    "def simple_function(x, y):\n",
    "    return x + y\n",
    "\n",
    "# Call the decorated function\n",
    "result = simple_function(3, 5)\n",
    "print(\"Result:\", result)\n"
   ]
  },
  {
   "cell_type": "code",
   "execution_count": 72,
   "id": "5d0320d0-b5a3-402e-9853-07197dce30c6",
   "metadata": {},
   "outputs": [
    {
     "name": "stdout",
     "output_type": "stream",
     "text": [
      "Before executing simple_function: performing addition\n",
      "After executing simple_function: performing addition\n",
      "Result: 8\n"
     ]
    }
   ],
   "source": [
    "#53. Modify the decorator to accept arguments and print the function name along with the message.\n",
    "\n",
    "def function_decorator_with_args(message):\n",
    "    def decorator(func):\n",
    "        def wrapper(*args, **kwargs):\n",
    "            print(f\"Before executing {func.__name__}: {message}\")\n",
    "            result = func(*args, **kwargs)\n",
    "            print(f\"After executing {func.__name__}: {message}\")\n",
    "            return result\n",
    "        return wrapper\n",
    "    return decorator\n",
    "\n",
    "# Define a simple function to be decorated\n",
    "@function_decorator_with_args(\"performing addition\")\n",
    "def simple_function(x, y):\n",
    "    return x + y\n",
    "\n",
    "# Call the decorated function\n",
    "result = simple_function(3, 5)\n",
    "print(\"Result:\", result)\n",
    "\n"
   ]
  },
  {
   "cell_type": "code",
   "execution_count": 73,
   "id": "f0986bf1-cac5-4ab3-b27c-b2e96241a28b",
   "metadata": {},
   "outputs": [
    {
     "name": "stdout",
     "output_type": "stream",
     "text": [
      "Decorator 1: Before executing the function...\n",
      "Decorator 2: Before executing the function...\n",
      "Simple function: Adding two numbers...\n",
      "Decorator 2: After executing the function...\n",
      "Decorator 1: After executing the function...\n",
      "Result: 8\n"
     ]
    }
   ],
   "source": [
    "#54. Create two decorators, and apply them to a single function. Ensure that they execute in the order they are  applied.\n",
    "\n",
    "def decorator1(func):\n",
    "    def wrapper(*args, **kwargs):\n",
    "        print(\"Decorator 1: Before executing the function...\")\n",
    "        result = func(*args, **kwargs)\n",
    "        print(\"Decorator 1: After executing the function...\")\n",
    "        return result\n",
    "    return wrapper\n",
    "\n",
    "def decorator2(func):\n",
    "    def wrapper(*args, **kwargs):\n",
    "        print(\"Decorator 2: Before executing the function...\")\n",
    "        result = func(*args, **kwargs)\n",
    "        print(\"Decorator 2: After executing the function...\")\n",
    "        return result\n",
    "    return wrapper\n",
    "\n",
    "@decorator1\n",
    "@decorator2\n",
    "def simple_function(x, y):\n",
    "    print(\"Simple function: Adding two numbers...\")\n",
    "    return x + y\n",
    "\n",
    "# Call the decorated function\n",
    "result = simple_function(3, 5)\n",
    "print(\"Result:\", result)\n"
   ]
  },
  {
   "cell_type": "code",
   "execution_count": 74,
   "id": "4a28ef3f-2009-4c36-bf1e-dbfb90c86b6e",
   "metadata": {},
   "outputs": [
    {
     "name": "stdout",
     "output_type": "stream",
     "text": [
      "Decorator 1: Before executing the function...\n",
      "Decorator 2: Before executing the function...\n",
      "Simple function: Adding two numbers...\n",
      "Decorator 2: After executing the function...\n",
      "Decorator 1: After executing the function...\n",
      "Result: 8\n"
     ]
    }
   ],
   "source": [
    "#55. Modify the decorator to accept and pass function arguments to the wrapped function.\n",
    "def decorator1(func):\n",
    "    def wrapper(*args, **kwargs):\n",
    "        print(\"Decorator 1: Before executing the function...\")\n",
    "        result = func(*args, **kwargs)\n",
    "        print(\"Decorator 1: After executing the function...\")\n",
    "        return result\n",
    "    return wrapper\n",
    "\n",
    "def decorator2(func):\n",
    "    def wrapper(*args, **kwargs):\n",
    "        print(\"Decorator 2: Before executing the function...\")\n",
    "        result = func(*args, **kwargs)\n",
    "        print(\"Decorator 2: After executing the function...\")\n",
    "        return result\n",
    "    return wrapper\n",
    "\n",
    "@decorator1\n",
    "@decorator2\n",
    "def simple_function(x, y):\n",
    "    print(\"Simple function: Adding two numbers...\")\n",
    "    return x + y\n",
    "\n",
    "# Call the decorated function with arguments\n",
    "result = simple_function(3, 5)\n",
    "print(\"Result:\", result)\n",
    "\n",
    "\n"
   ]
  },
  {
   "cell_type": "code",
   "execution_count": 75,
   "id": "53ab4003-12f8-4355-af84-d1af668fa0b5",
   "metadata": {},
   "outputs": [
    {
     "name": "stdout",
     "output_type": "stream",
     "text": [
      "Function name: example_function\n",
      "Docstring: This is an example function.\n"
     ]
    }
   ],
   "source": [
    "#56. Create a decorator that preserves the metadata of the original function.\n",
    "\n",
    "from functools import wraps\n",
    "\n",
    "def preserve_metadata(func):\n",
    "    @wraps(func)\n",
    "    def wrapper(*args, **kwargs):\n",
    "        \"\"\"Wrapper function\"\"\"\n",
    "        return func(*args, **kwargs)\n",
    "    return wrapper\n",
    "\n",
    "# Applying the decorator to a function\n",
    "@preserve_metadata\n",
    "def example_function():\n",
    "    \"\"\"This is an example function.\"\"\"\n",
    "    pass\n",
    "\n",
    "# Printing metadata of the decorated function\n",
    "print(\"Function name:\", example_function.__name__)     # Output: example_function\n",
    "print(\"Docstring:\", example_function.__doc__)          # Output: This is an example function.\n",
    "\n"
   ]
  },
  {
   "cell_type": "code",
   "execution_count": 76,
   "id": "080fe204-9e7a-4281-bc48-c0afac116a7c",
   "metadata": {},
   "outputs": [
    {
     "name": "stdout",
     "output_type": "stream",
     "text": [
      "Sum: 8\n"
     ]
    }
   ],
   "source": [
    "#57. Create a Python class 'Calculator with a static method 'add' that takes in two numbers and returns their  sum.\n",
    "\n",
    "\n",
    "class Calculator:\n",
    "    @staticmethod\n",
    "    def add(x, y):\n",
    "        return x + y\n",
    "\n",
    "# Using the static method to add two numbers\n",
    "result = Calculator.add(5, 3)\n",
    "print(\"Sum:\", result)  # Output: Sum: 8\n"
   ]
  },
  {
   "cell_type": "code",
   "execution_count": 77,
   "id": "678817c5-6d4d-4d32-b8ca-3db61ac7f1d3",
   "metadata": {},
   "outputs": [
    {
     "name": "stdout",
     "output_type": "stream",
     "text": [
      "Total employees: 3\n"
     ]
    }
   ],
   "source": [
    "#58. Create a Python class 'Employee with a class 'method get_employee_coune that returns the total number of employees created.\n",
    "\n",
    "class Employee:\n",
    "    count = 0  # Class variable to keep track of the total number of employees\n",
    "\n",
    "    def __init__(self, name):\n",
    "        self.name = name\n",
    "        Employee.count += 1  # Incrementing the count when a new employee is created\n",
    "\n",
    "    @classmethod\n",
    "    def get_employee_count(cls):\n",
    "        return cls.count\n",
    "\n",
    "# Creating instances of Employee\n",
    "emp1 = Employee(\"Alice\")\n",
    "emp2 = Employee(\"Bob\")\n",
    "emp3 = Employee(\"Charlie\")\n",
    "\n",
    "# Getting the total number of employees using the class method\n",
    "total_employees = Employee.get_employee_count()\n",
    "print(\"Total employees:\", total_employees)  # Output: Total employees: 3\n"
   ]
  },
  {
   "cell_type": "code",
   "execution_count": 78,
   "id": "c5490e7c-3825-4169-8b66-f9c0a1de43aa",
   "metadata": {},
   "outputs": [
    {
     "name": "stdout",
     "output_type": "stream",
     "text": [
      "Reversed String: !dlroW ,olleH\n"
     ]
    }
   ],
   "source": [
    "#59. Create a Python class 'StringFormatter' with a static method 'reverse_string' that takes a string as input and returns its reverse\n",
    "\n",
    "class StringFormatter:\n",
    "    @staticmethod\n",
    "    def reverse_string(input_string):\n",
    "        return input_string[::-1]\n",
    "\n",
    "# Using the static method to reverse a string\n",
    "reversed_str = StringFormatter.reverse_string(\"Hello, World!\")\n",
    "print(\"Reversed String:\", reversed_str)  # Output: Reversed String: !dlroW ,olleH\n"
   ]
  },
  {
   "cell_type": "code",
   "execution_count": 79,
   "id": "023dc722-8383-4ede-9695-6ec206f01fb9",
   "metadata": {},
   "outputs": [
    {
     "name": "stdout",
     "output_type": "stream",
     "text": [
      "Area of the circle with radius 5 is: 78.5\n"
     ]
    }
   ],
   "source": [
    "#60. Create a Python class 'Circle with a class method 'calculate_aree that calculates the area of a circle given its radius.\n",
    "\n",
    "class Circle:\n",
    "    @classmethod\n",
    "    def calculate_area(cls, radius):\n",
    "        return 3.14 * radius ** 2\n",
    "\n",
    "# Using the class method to calculate the area of a circle\n",
    "radius = 5\n",
    "area = Circle.calculate_area(radius)\n",
    "print(\"Area of the circle with radius\", radius, \"is:\", area)  # Output: Area of the circle with radius 5 is: 78.5\n"
   ]
  },
  {
   "cell_type": "code",
   "execution_count": 80,
   "id": "c087f618-6398-467d-bb81-9f6d8ea0ae1b",
   "metadata": {},
   "outputs": [
    {
     "name": "stdout",
     "output_type": "stream",
     "text": [
      "25 degrees Celsius is equal to 77.0 degrees Fahrenheit.\n"
     ]
    }
   ],
   "source": [
    "#61. Create a Python class 'TemperatureConverter with a static method 'celsius_to_fahrenheir that converts Celsius to Fahrenheit.\n",
    "\n",
    "class TemperatureConverter:\n",
    "    @staticmethod\n",
    "    def celsius_to_fahrenheit(celsius):\n",
    "        return (celsius * 9/5) + 32\n",
    "\n",
    "# Using the static method to convert Celsius to Fahrenheit\n",
    "celsius_temperature = 25\n",
    "fahrenheit_temperature = TemperatureConverter.celsius_to_fahrenheit(celsius_temperature)\n",
    "print(f\"{celsius_temperature} degrees Celsius is equal to {fahrenheit_temperature} degrees Fahrenheit.\")\n"
   ]
  },
  {
   "cell_type": "code",
   "execution_count": 81,
   "id": "8fb4451c-5bad-4932-aecf-b4bae5d95c86",
   "metadata": {},
   "outputs": [
    {
     "name": "stdout",
     "output_type": "stream",
     "text": [
      "Person: Alice, Age: 30\n",
      "Person: Alice, Age: 30\n"
     ]
    }
   ],
   "source": [
    "#62. What is the purpose of the __str__() method in Python classes? Provide an example.\n",
    "\n",
    "class Person:\n",
    "    def __init__(self, name, age):\n",
    "        self.name = name\n",
    "        self.age = age\n",
    "\n",
    "    def __str__(self):\n",
    "        return f\"Person: {self.name}, Age: {self.age}\"\n",
    "\n",
    "# Creating an instance of the Person class\n",
    "person = Person(\"Alice\", 30)\n",
    "\n",
    "# Using the str() function to obtain the string representation of the object\n",
    "print(str(person))  # Output: Person: Alice, Age: 30\n",
    "\n",
    "# Using the object in a string context (e.g., printing)\n",
    "print(person)       # Output: Person: Alice, Age: 30\n"
   ]
  },
  {
   "cell_type": "code",
   "execution_count": 82,
   "id": "f33a68d3-0b46-4c63-adb1-deb9b3c2fb3c",
   "metadata": {},
   "outputs": [
    {
     "name": "stdout",
     "output_type": "stream",
     "text": [
      "5\n"
     ]
    }
   ],
   "source": [
    "#63. How does the __Ien__() method work in Python? Provide an example.\n",
    "\n",
    "class MyList:\n",
    "    def __init__(self, data):\n",
    "        self.data = data\n",
    "\n",
    "    def __len__(self):\n",
    "        return len(self.data)\n",
    "\n",
    "# Creating an instance of the MyList class\n",
    "my_list = MyList([1, 2, 3, 4, 5])\n",
    "\n",
    "# Using the len() function to obtain the length of the object\n",
    "print(len(my_list))  # Output: 5\n"
   ]
  },
  {
   "cell_type": "code",
   "execution_count": 84,
   "id": "9131bd02-73fb-4644-a5ab-62564eba6095",
   "metadata": {},
   "outputs": [
    {
     "name": "stdout",
     "output_type": "stream",
     "text": [
      "Result of addition: (4, 6)\n"
     ]
    }
   ],
   "source": [
    "#64. Explain the usage of the __add__() method in Python classes. Provide an example.\n",
    "\n",
    "class Point:\n",
    "    def __init__(self, x, y):\n",
    "        self.x = x\n",
    "        self.y = y\n",
    "\n",
    "    def __add__(self, other_point):\n",
    "        new_x = self.x + other_point.x\n",
    "        new_y = self.y + other_point.y\n",
    "        return Point(new_x, new_y)\n",
    "\n",
    "    def __str__(self):\n",
    "        return f\"({self.x}, {self.y})\"\n",
    "\n",
    "# Creating two instances of the Point class\n",
    "point1 = Point(1, 2)\n",
    "point2 = Point(3, 4)\n",
    "\n",
    "# Adding the two points using the + operator\n",
    "result = point1 + point2\n",
    "\n",
    "# Printing the result\n",
    "print(\"Result of addition:\", result)  # Output: Result of addition: (4, 6)\n"
   ]
  },
  {
   "cell_type": "code",
   "execution_count": null,
   "id": "e4c32443-50e8-43bb-8d65-10ccba92dfa4",
   "metadata": {},
   "outputs": [],
   "source": []
  },
  {
   "cell_type": "code",
   "execution_count": 85,
   "id": "f5f82b92-1e38-4959-bd39-1cb04449778f",
   "metadata": {},
   "outputs": [
    {
     "name": "stdout",
     "output_type": "stream",
     "text": [
      "Element at index 0: 1\n",
      "Element at index 2: 3\n",
      "Sliced list: [2, 3, 4]\n"
     ]
    }
   ],
   "source": [
    "#65. What is the purpose of the __getitem__() method in Python? Provide an example.\n",
    "\n",
    "class MyList:\n",
    "    def __init__(self, data):\n",
    "        self.data = data\n",
    "\n",
    "    def __getitem__(self, index):\n",
    "        return self.data[index]\n",
    "\n",
    "# Creating an instance of the MyList class\n",
    "my_list = MyList([1, 2, 3, 4, 5])\n",
    "\n",
    "# Accessing elements using indexing\n",
    "print(\"Element at index 0:\", my_list[0])  # Output: Element at index 0: 1\n",
    "print(\"Element at index 2:\", my_list[2])  # Output: Element at index 2: 3\n",
    "\n",
    "# Slicing the list\n",
    "print(\"Sliced list:\", my_list[1:4])  # Output: Sliced list: [2, 3, 4]\n"
   ]
  },
  {
   "cell_type": "code",
   "execution_count": 88,
   "id": "f0bad408-be07-44f9-9c7d-ed55bb42e4ad",
   "metadata": {},
   "outputs": [
    {
     "name": "stdout",
     "output_type": "stream",
     "text": [
      "1\n",
      "2\n",
      "3\n",
      "4\n",
      "5\n",
      "1\n",
      "2\n",
      "3\n"
     ]
    }
   ],
   "source": [
    "#66. Explain the usage of the __iter__() and __next__() methods in Python. Provide an example using iterators.\n",
    "\n",
    "'''\n",
    "__iter__(): This method returns an iterator object itself. It is called when the iter() \n",
    "function is called on an iterable object (such as a list or a custom class). \n",
    "It should return an iterator object, which is an object with a __next__() method.\n",
    "\n",
    "__next__(): This method returns the next element in the iteration. It is called \n",
    "when the next() function is called on an iterator object. If there are no more \n",
    "elements to iterate over, it should raise a StopIteration exception.\n",
    "'''\n",
    "\n",
    "class MyIterator:\n",
    "    def __init__(self, data):\n",
    "        self.data = data\n",
    "        self.index = 0\n",
    "\n",
    "    def __iter__(self):\n",
    "        return self\n",
    "\n",
    "    def __next__(self):\n",
    "        if self.index < len(self.data):\n",
    "            value = self.data[self.index]\n",
    "            self.index += 1\n",
    "            return value\n",
    "        else:\n",
    "            raise StopIteration\n",
    "\n",
    "# Creating an iterator object\n",
    "my_iterator = MyIterator([1, 2, 3, 4, 5])\n",
    "\n",
    "# Iterating over the elements using a for loop\n",
    "for element in my_iterator:\n",
    "    print(element)\n",
    "\n",
    "# Alternatively, using the next() function to iterate\n",
    "my_iterator = MyIterator([1, 2, 3, 4, 5])\n",
    "print(next(my_iterator))  # Output: 1\n",
    "print(next(my_iterator))  # Output: 2\n",
    "print(next(my_iterator))  # Output: 3\n"
   ]
  },
  {
   "cell_type": "code",
   "execution_count": 89,
   "id": "9007f3a0-945a-4a9f-8c6d-5ea49602e1ac",
   "metadata": {},
   "outputs": [
    {
     "name": "stdout",
     "output_type": "stream",
     "text": [
      "Radius of the circle: 5\n"
     ]
    }
   ],
   "source": [
    "#67. What is the purpose of a getter method in Python? Provide an example demonstrating the use of a getter  method using property decorators.\n",
    "\n",
    "class Circle:\n",
    "    def __init__(self, radius):\n",
    "        self._radius = radius  # Private attribute\n",
    "\n",
    "    @property\n",
    "    def radius(self):\n",
    "        return self._radius\n",
    "\n",
    "# Creating an instance of the Circle class\n",
    "circle = Circle(5)\n",
    "\n",
    "# Accessing the radius using the getter method\n",
    "print(\"Radius of the circle:\", circle.radius)  # Output: Radius of the circle: 5\n",
    "\n"
   ]
  },
  {
   "cell_type": "code",
   "execution_count": 90,
   "id": "d72d18c6-c5a3-496b-8a0d-d793ad883406",
   "metadata": {},
   "outputs": [
    {
     "name": "stdout",
     "output_type": "stream",
     "text": [
      "Updated radius of the circle: 7\n"
     ]
    }
   ],
   "source": [
    "#68. Explain the role of setter methods in Python. Demonstrate how to use a setter method to modify a class attribute using property decorators.\n",
    "\n",
    "class Circle:\n",
    "    def __init__(self, radius):\n",
    "        self._radius = radius  # Private attribute\n",
    "\n",
    "    @property\n",
    "    def radius(self):\n",
    "        return self._radius\n",
    "\n",
    "    @radius.setter\n",
    "    def radius(self, value):\n",
    "        if value <= 0:\n",
    "            raise ValueError(\"Radius must be positive\")\n",
    "        self._radius = value\n",
    "\n",
    "# Creating an instance of the Circle class\n",
    "circle = Circle(5)\n",
    "\n",
    "# Modifying the radius using the setter method\n",
    "circle.radius = 7\n",
    "\n",
    "# Accessing the updated radius\n",
    "print(\"Updated radius of the circle:\", circle.radius)  # Output: Updated radius of the circle: 7\n"
   ]
  },
  {
   "cell_type": "code",
   "execution_count": 92,
   "id": "f7e1cc65-eba4-4071-85eb-4d052e583cbd",
   "metadata": {},
   "outputs": [
    {
     "name": "stdout",
     "output_type": "stream",
     "text": [
      "Radius of the circle: 5\n",
      "Updated radius of the circle: 7\n"
     ]
    },
    {
     "ename": "AttributeError",
     "evalue": "'Circle' object has no attribute '_radius'",
     "output_type": "error",
     "traceback": [
      "\u001b[0;31m---------------------------------------------------------------------------\u001b[0m",
      "\u001b[0;31mAttributeError\u001b[0m                            Traceback (most recent call last)",
      "Cell \u001b[0;32mIn[92], line 36\u001b[0m\n\u001b[1;32m     32\u001b[0m \u001b[38;5;28;01mdel\u001b[39;00m circle\u001b[38;5;241m.\u001b[39mradius\n\u001b[1;32m     34\u001b[0m \u001b[38;5;66;03m# Accessing the radius after deletion\u001b[39;00m\n\u001b[1;32m     35\u001b[0m \u001b[38;5;66;03m# Raises AttributeError: 'Circle' object has no attribute '_radius'\u001b[39;00m\n\u001b[0;32m---> 36\u001b[0m \u001b[38;5;28mprint\u001b[39m(\u001b[38;5;124m\"\u001b[39m\u001b[38;5;124mRadius of the circle after deletion:\u001b[39m\u001b[38;5;124m\"\u001b[39m, \u001b[43mcircle\u001b[49m\u001b[38;5;241;43m.\u001b[39;49m\u001b[43mradius\u001b[49m)\n",
      "Cell \u001b[0;32mIn[92], line 7\u001b[0m, in \u001b[0;36mCircle.radius\u001b[0;34m(self)\u001b[0m\n\u001b[1;32m      5\u001b[0m \u001b[38;5;129m@property\u001b[39m\n\u001b[1;32m      6\u001b[0m \u001b[38;5;28;01mdef\u001b[39;00m \u001b[38;5;21mradius\u001b[39m(\u001b[38;5;28mself\u001b[39m):\n\u001b[0;32m----> 7\u001b[0m     \u001b[38;5;28;01mreturn\u001b[39;00m \u001b[38;5;28;43mself\u001b[39;49m\u001b[38;5;241;43m.\u001b[39;49m\u001b[43m_radius\u001b[49m\n",
      "\u001b[0;31mAttributeError\u001b[0m: 'Circle' object has no attribute '_radius'"
     ]
    }
   ],
   "source": [
    "class Circle:\n",
    "    def __init__(self, radius):\n",
    "        self._radius = radius  # Private attribute\n",
    "\n",
    "    @property\n",
    "    def radius(self):\n",
    "        return self._radius\n",
    "\n",
    "    @radius.setter\n",
    "    def radius(self, value):\n",
    "        if value <= 0:\n",
    "            raise ValueError(\"Radius must be positive\")\n",
    "        self._radius = value\n",
    "\n",
    "    @radius.deleter\n",
    "    def radius(self):\n",
    "        del self._radius\n",
    "\n",
    "# Creating an instance of the Circle class\n",
    "circle = Circle(5)\n",
    "\n",
    "# Accessing the radius using the getter method\n",
    "print(\"Radius of the circle:\", circle.radius)  # Output: Radius of the circle: 5\n",
    "\n",
    "# Modifying the radius using the setter method\n",
    "circle.radius = 7\n",
    "\n",
    "# Accessing the updated radius\n",
    "print(\"Updated radius of the circle:\", circle.radius)  # Output: Updated radius of the circle: 7\n",
    "\n",
    "# Deleting the radius attribute\n",
    "del circle.radius\n",
    "\n",
    "# Accessing the radius after deletion\n",
    "# Raises AttributeError: 'Circle' object has no attribute '_radius'\n",
    "print(\"Radius of the circle after deletion:\", circle.radius)\n"
   ]
  },
  {
   "cell_type": "code",
   "execution_count": 93,
   "id": "1988958e-6b3c-4260-a754-edc762d64275",
   "metadata": {},
   "outputs": [
    {
     "name": "stdout",
     "output_type": "stream",
     "text": [
      "Current name: Alice\n",
      "Deleting name: Alice\n"
     ]
    }
   ],
   "source": [
    "#70. Explain the use of the @deleter decorator in Python property decorators. Provide a code example demonstrating its application.In Python, the @deleter decorator is used in conjunction with the @property decorator to define a deleter method for a class attribute. This allows you to define a method that will be called when the attribute is deleted using the del statement.'\n",
    "class Person:\n",
    "    def __init__(self, name):\n",
    "        self._name = name  # Private attribute\n",
    "\n",
    "    @property\n",
    "    def name(self):\n",
    "        return self._name\n",
    "\n",
    "    @name.deleter\n",
    "    def name(self):\n",
    "        print(f\"Deleting name: {self._name}\")\n",
    "        del self._name\n",
    "\n",
    "# Creating an instance of the Person class\n",
    "person = Person(\"Alice\")\n",
    "\n",
    "# Accessing the name attribute\n",
    "print(\"Current name:\", person.name)  # Output: Current name: Alice\n",
    "\n",
    "# Deleting the name attribute\n",
    "del person.name\n",
    "\n",
    "\n",
    "\n"
   ]
  },
  {
   "cell_type": "code",
   "execution_count": null,
   "id": "e1824876-4ddd-46ac-a695-ff01f09e5f94",
   "metadata": {},
   "outputs": [],
   "source": [
    "\n",
    "\n",
    "\n",
    "class Circle:\n",
    "    def __init__(self, radius):\n",
    "        self._radius = radius  # Private attribute\n",
    "\n",
    "    @property\n",
    "    def radius(self):\n",
    "        return self._radius\n",
    "\n",
    "    @radius.setter\n",
    "    def radius(self, value):\n",
    "        if value <= 0:\n",
    "            raise ValueError(\"Radius must be positive\")\n",
    "        self._radius = value\n",
    "\n",
    "    @radius.deleter\n",
    "    def radius(self):\n",
    "        del self._radius\n",
    "\n",
    "# Creating an instance of the Circle class\n",
    "circle = Circle(5)\n",
    "\n",
    "# Accessing the radius attribute\n",
    "print(\"Current radius:\", circle.radius)  # Output: Current radius: 5\n",
    "\n",
    "# Modifying the radius attribute using setter method\n",
    "circle.radius = 7\n",
    "\n",
    "# Accessing the updated radius\n",
    "print(\"Updated radius:\", circle.radius)  # Output: Updated radius: 7\n",
    "\n",
    "# Deleting the radius attribute using deleter method\n",
    "del circle.radius\n",
    "\n",
    "# Accessing the radius after deletion\n",
    "# Raises AttributeError: 'Circle' object has no attribute '_radius'\n",
    "print(\"Radius after deletion:\", circle.radius)\n"
   ]
  }
 ],
 "metadata": {
  "kernelspec": {
   "display_name": "Python 3 (ipykernel)",
   "language": "python",
   "name": "python3"
  },
  "language_info": {
   "codemirror_mode": {
    "name": "ipython",
    "version": 3
   },
   "file_extension": ".py",
   "mimetype": "text/x-python",
   "name": "python",
   "nbconvert_exporter": "python",
   "pygments_lexer": "ipython3",
   "version": "3.10.8"
  }
 },
 "nbformat": 4,
 "nbformat_minor": 5
}
