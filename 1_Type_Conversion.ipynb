{
 "cells": [
  {
   "cell_type": "code",
   "execution_count": 27,
   "id": "c4f949da-205d-4744-8c01-7f20ff2309ab",
   "metadata": {},
   "outputs": [],
   "source": [
    "# 1 Covert a integer to a floatig-poit number."
   ]
  },
  {
   "cell_type": "code",
   "execution_count": 28,
   "id": "e86b6695-cef8-4757-a86d-f32cb4d40606",
   "metadata": {},
   "outputs": [
    {
     "name": "stdout",
     "output_type": "stream",
     "text": [
      "Int value : 100\tFloat value : 100.0\n"
     ]
    }
   ],
   "source": [
    "a = 100\n",
    "\n",
    "b = float(a)\n",
    "\n",
    "print(f'Int value : {a}\\tFloat value : {b}')"
   ]
  },
  {
   "cell_type": "code",
   "execution_count": 29,
   "id": "c5d19f86-fbc9-4827-9c93-0ed8eb9626ff",
   "metadata": {},
   "outputs": [],
   "source": [
    "#2 Convert a float to a integer."
   ]
  },
  {
   "cell_type": "code",
   "execution_count": 30,
   "id": "1a3b716c-42e0-4ba2-8570-d21d2b3a0e89",
   "metadata": {},
   "outputs": [
    {
     "name": "stdout",
     "output_type": "stream",
     "text": [
      "Type of a : <class 'float'>\n",
      "Type of b : <class 'int'>\n",
      "Fload value : 45.67\\Int value : 45\n"
     ]
    }
   ],
   "source": [
    "a = 45.67\n",
    "\n",
    "b = int(a)\n",
    "\n",
    "print(f'Type of a : {type(a)}')\n",
    "print(f'Type of b : {type(b)}')\n",
    "print(f'Fload value : {a}\\Int value : {b}')"
   ]
  },
  {
   "cell_type": "code",
   "execution_count": 31,
   "id": "58d62214-a094-411d-bbe9-fda0c1c34422",
   "metadata": {},
   "outputs": [],
   "source": [
    "# 3. Convert a integer to a string."
   ]
  },
  {
   "cell_type": "code",
   "execution_count": 32,
   "id": "a92aff4f-86e8-4903-8137-2f7a562a5f3b",
   "metadata": {},
   "outputs": [
    {
     "name": "stdout",
     "output_type": "stream",
     "text": [
      "Type of a : <class 'int'>\tType of s : <class 'str'>\n",
      "Int : 99\t String : 99\n"
     ]
    }
   ],
   "source": [
    "a = 99\n",
    "s = str(a)\n",
    "\n",
    "print(f'Type of a : {type(a)}\\tType of s : {type(s)}')\n",
    "print(f'Int : {a}\\t String : {s}')"
   ]
  },
  {
   "cell_type": "code",
   "execution_count": 33,
   "id": "e90b304d-72f1-4d68-83bb-474a072181ac",
   "metadata": {},
   "outputs": [],
   "source": [
    "#4. Convert a list to a tuple."
   ]
  },
  {
   "cell_type": "code",
   "execution_count": 34,
   "id": "a9838b36-bbcf-4377-b422-b596467ae3ca",
   "metadata": {},
   "outputs": [
    {
     "name": "stdout",
     "output_type": "stream",
     "text": [
      "Type of List : <class 'list'>\tType of Tuple : <class 'tuple'>\n",
      "List : ['bhimsen', 'shree', 'PW', 'Vishwa']\n",
      "Tuple : ('bhimsen', 'shree', 'PW', 'Vishwa')\n"
     ]
    }
   ],
   "source": [
    "l = ['bhimsen','shree','PW','Vishwa']\n",
    "\n",
    "t = tuple(l)\n",
    "print(f'Type of List : {type(l)}\\tType of Tuple : {type(t)}')\n",
    "print(f'List : {l}\\nTuple : {t}')"
   ]
  },
  {
   "cell_type": "code",
   "execution_count": 35,
   "id": "ef0a62ff-18dd-4990-b9e5-144caf302a71",
   "metadata": {},
   "outputs": [],
   "source": [
    "#5 Convert tuple to a list."
   ]
  },
  {
   "cell_type": "code",
   "execution_count": 36,
   "id": "5a52d52e-aa85-4674-b95b-1db723f61010",
   "metadata": {},
   "outputs": [
    {
     "name": "stdout",
     "output_type": "stream",
     "text": [
      "Type of Tuple : <class 'tuple'>\tType of List : <class 'list'>\n",
      "Tuple : ('Course', 'of', 'Data Science', 'by', 'PW SKILLS')\n",
      "List : ['Course', 'of', 'Data Science', 'by', 'PW SKILLS']\n"
     ]
    }
   ],
   "source": [
    "t = ('Course','of','Data Science','by', 'PW SKILLS')\n",
    "\n",
    "l = list(t)\n",
    "print(f'Type of Tuple : {type(t)}\\tType of List : {type(l)}')\n",
    "print(f'Tuple : {t}\\nList : {l}')"
   ]
  },
  {
   "cell_type": "code",
   "execution_count": 37,
   "id": "85ca79a0-83cb-4e0d-ace1-ecfd873ae411",
   "metadata": {},
   "outputs": [],
   "source": [
    "#6. Convert a decimal number to binary."
   ]
  },
  {
   "cell_type": "code",
   "execution_count": 38,
   "id": "119aa7ee-2c2c-4b2f-8174-f9db7edd5260",
   "metadata": {},
   "outputs": [
    {
     "name": "stdout",
     "output_type": "stream",
     "text": [
      "0b11111001110\n",
      "1998\n"
     ]
    }
   ],
   "source": [
    "d = 1998\n",
    "b = bin(d) #into binary\n",
    "i = int(b,2) #into decimal\n",
    "print(b)\n",
    "print(i)"
   ]
  },
  {
   "cell_type": "code",
   "execution_count": 39,
   "id": "8c41d4c8-4d7f-449e-a376-c4877543c150",
   "metadata": {
    "tags": []
   },
   "outputs": [],
   "source": [
    "#7. Convert a non-zero number to boolean."
   ]
  },
  {
   "cell_type": "code",
   "execution_count": 40,
   "id": "09f97904-2bc8-45ae-8be2-904bc4994995",
   "metadata": {},
   "outputs": [
    {
     "name": "stdout",
     "output_type": "stream",
     "text": [
      "True\n"
     ]
    }
   ],
   "source": [
    "n = 12000\n",
    "bol = bool(n)\n",
    "print(bol)"
   ]
  },
  {
   "cell_type": "code",
   "execution_count": null,
   "id": "ca1a008f-df46-4db6-ad67-8023a8b4abd8",
   "metadata": {},
   "outputs": [],
   "source": []
  },
  {
   "cell_type": "code",
   "execution_count": null,
   "id": "78448f3a-3207-4874-851d-26e83835b549",
   "metadata": {},
   "outputs": [],
   "source": []
  }
 ],
 "metadata": {
  "kernelspec": {
   "display_name": "Python 3 (ipykernel)",
   "language": "python",
   "name": "python3"
  },
  "language_info": {
   "codemirror_mode": {
    "name": "ipython",
    "version": 3
   },
   "file_extension": ".py",
   "mimetype": "text/x-python",
   "name": "python",
   "nbconvert_exporter": "python",
   "pygments_lexer": "ipython3",
   "version": "3.10.8"
  }
 },
 "nbformat": 4,
 "nbformat_minor": 5
}
